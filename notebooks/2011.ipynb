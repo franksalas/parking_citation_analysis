{
 "cells": [
  {
   "cell_type": "code",
   "execution_count": 1,
   "metadata": {},
   "outputs": [],
   "source": [
    "import warnings\n",
    "warnings.filterwarnings('ignore')"
   ]
  },
  {
   "cell_type": "code",
   "execution_count": 11,
   "metadata": {},
   "outputs": [
    {
     "name": "stdout",
     "output_type": "stream",
     "text": [
      "Collecting xlrd\n",
      "\u001b[?25l  Downloading https://files.pythonhosted.org/packages/b0/16/63576a1a001752e34bf8ea62e367997530dc553b689356b9879339cf45a4/xlrd-1.2.0-py2.py3-none-any.whl (103kB)\n",
      "\u001b[K    100% |████████████████████████████████| 112kB 4.3MB/s \n",
      "\u001b[31mmenpo 0.8.1 has requirement matplotlib<2.0,>=1.4, but you'll have matplotlib 2.2.3 which is incompatible.\u001b[0m\n",
      "\u001b[31mmenpo 0.8.1 has requirement pillow<5.0,>=3.0, but you'll have pillow 5.2.0 which is incompatible.\u001b[0m\n",
      "\u001b[31mmenpo 0.8.1 has requirement scipy<1.0,>=0.16, but you'll have scipy 1.1.0 which is incompatible.\u001b[0m\n",
      "\u001b[?25hInstalling collected packages: xlrd\n",
      "Successfully installed xlrd-1.2.0\n",
      "\u001b[33mYou are using pip version 10.0.1, however version 18.1 is available.\n",
      "You should consider upgrading via the 'pip install --upgrade pip' command.\u001b[0m\n"
     ]
    }
   ],
   "source": [
    "!pip install xlrd"
   ]
  },
  {
   "cell_type": "code",
   "execution_count": 2,
   "metadata": {},
   "outputs": [],
   "source": [
    "import pandas as pd\n",
    "import glob, os\n",
    "import numpy as np\n",
    "import matplotlib.pyplot as plt\n",
    "import datetime  as dt\n",
    "import seaborn as sns"
   ]
  },
  {
   "cell_type": "markdown",
   "metadata": {},
   "source": [
    "## Data directory"
   ]
  },
  {
   "cell_type": "code",
   "execution_count": 3,
   "metadata": {},
   "outputs": [],
   "source": [
    "year = '2011'"
   ]
  },
  {
   "cell_type": "code",
   "execution_count": 4,
   "metadata": {},
   "outputs": [
    {
     "name": "stdout",
     "output_type": "stream",
     "text": [
      "\u001b[0m\u001b[01;32m2011.ipynb\u001b[0m*  \u001b[01;32maddress_finder.ipynb\u001b[0m*  Untitled.ipynb\n"
     ]
    }
   ],
   "source": [
    "ls"
   ]
  },
  {
   "cell_type": "code",
   "execution_count": 5,
   "metadata": {},
   "outputs": [],
   "source": [
    "\n",
    "# data folder path\n",
    "data_directory = os.path.join('..','data','raw_data/{}/'.format(year))\n",
    "all_files = glob.glob(os.path.join(data_directory, \"*.xlsx\")) \n",
    "data_directory_saves = os.path.join( '..','data','raw_data','clean_data/')\n",
    "\n",
    "\n",
    "metadata = os.path.join('..','data','raw_data/parking-citation-metadata.xls')"
   ]
  },
  {
   "cell_type": "code",
   "execution_count": 6,
   "metadata": {},
   "outputs": [
    {
     "data": {
      "text/plain": [
       "'../data/raw_data/2011/'"
      ]
     },
     "execution_count": 6,
     "metadata": {},
     "output_type": "execute_result"
    }
   ],
   "source": [
    "data_directory"
   ]
  },
  {
   "cell_type": "code",
   "execution_count": null,
   "metadata": {},
   "outputs": [],
   "source": []
  },
  {
   "cell_type": "code",
   "execution_count": 7,
   "metadata": {},
   "outputs": [
    {
     "name": "stdout",
     "output_type": "stream",
     "text": [
      "'Parking Citations in T2 07-01-2010 to 06-30-2011 as of 05-01-2016.xlsx'\n"
     ]
    }
   ],
   "source": [
    "ls ../data/raw_data/2011/"
   ]
  },
  {
   "cell_type": "code",
   "execution_count": 8,
   "metadata": {},
   "outputs": [],
   "source": [
    "# combine all files into one df\n",
    "all_files = glob.glob(os.path.join(data_directory, \"*.xlsx\")) \n",
    "#df_from_each_file = (pd.read_excel(f) for f in all_files)\n",
    "#df   = pd.concat(df_from_each_file, ignore_index=True)"
   ]
  },
  {
   "cell_type": "code",
   "execution_count": 9,
   "metadata": {},
   "outputs": [
    {
     "data": {
      "text/plain": [
       "'../data/raw_data/2011/Parking Citations in T2 07-01-2010 to 06-30-2011 as of 05-01-2016.xlsx'"
      ]
     },
     "execution_count": 9,
     "metadata": {},
     "output_type": "execute_result"
    }
   ],
   "source": [
    "all_files[0]"
   ]
  },
  {
   "cell_type": "code",
   "execution_count": 10,
   "metadata": {},
   "outputs": [
    {
     "name": "stdout",
     "output_type": "stream",
     "text": [
      "CPU times: user 46.9 s, sys: 1.41 s, total: 48.3 s\n",
      "Wall time: 48.4 s\n"
     ]
    }
   ],
   "source": [
    "%%time\n",
    "df = pd.read_excel(all_files[0])"
   ]
  },
  {
   "cell_type": "code",
   "execution_count": 13,
   "metadata": {},
   "outputs": [],
   "source": [
    "#df.info()"
   ]
  },
  {
   "cell_type": "code",
   "execution_count": 14,
   "metadata": {},
   "outputs": [
    {
     "data": {
      "text/html": [
       "<div>\n",
       "<style scoped>\n",
       "    .dataframe tbody tr th:only-of-type {\n",
       "        vertical-align: middle;\n",
       "    }\n",
       "\n",
       "    .dataframe tbody tr th {\n",
       "        vertical-align: top;\n",
       "    }\n",
       "\n",
       "    .dataframe thead th {\n",
       "        text-align: right;\n",
       "    }\n",
       "</style>\n",
       "<table border=\"1\" class=\"dataframe\">\n",
       "  <thead>\n",
       "    <tr style=\"text-align: right;\">\n",
       "      <th></th>\n",
       "      <th>CON_UID</th>\n",
       "      <th>Entity_UID</th>\n",
       "      <th>Vehicle_Plate_Anon</th>\n",
       "      <th>Invoice_Number</th>\n",
       "      <th>Invoice_Date</th>\n",
       "      <th>Invoice_Due_Date</th>\n",
       "      <th>Entity_Type</th>\n",
       "      <th>Billing_State_Abbrev</th>\n",
       "      <th>Billing_Postal_Code</th>\n",
       "      <th>Event_Block_Number</th>\n",
       "      <th>...</th>\n",
       "      <th>CON_IS_NO_CONTEST</th>\n",
       "      <th>Initial_Citation_Amount</th>\n",
       "      <th>Amount_Outstanding</th>\n",
       "      <th>Citation_Officer</th>\n",
       "      <th>Citation_Officer_UID</th>\n",
       "      <th>Vehicle_Make</th>\n",
       "      <th>Vehicle_Year</th>\n",
       "      <th>Vehicle_Style</th>\n",
       "      <th>Latitude</th>\n",
       "      <th>Longitude</th>\n",
       "    </tr>\n",
       "  </thead>\n",
       "  <tbody>\n",
       "    <tr>\n",
       "      <th>0</th>\n",
       "      <td>612399</td>\n",
       "      <td>441213.0</td>\n",
       "      <td>1051794</td>\n",
       "      <td>V10117186</td>\n",
       "      <td>2011-06-16 14:30:00</td>\n",
       "      <td>2011-07-16 14:30:00</td>\n",
       "      <td>Individual</td>\n",
       "      <td>TX</td>\n",
       "      <td>77078</td>\n",
       "      <td>7426</td>\n",
       "      <td>...</td>\n",
       "      <td>0</td>\n",
       "      <td>205.0</td>\n",
       "      <td>0.0</td>\n",
       "      <td>RECTOR, DAVID</td>\n",
       "      <td>2148</td>\n",
       "      <td>Chrysler</td>\n",
       "      <td>2008.0</td>\n",
       "      <td></td>\n",
       "      <td>NaN</td>\n",
       "      <td>NaN</td>\n",
       "    </tr>\n",
       "    <tr>\n",
       "      <th>1</th>\n",
       "      <td>612401</td>\n",
       "      <td>441214.0</td>\n",
       "      <td>612548</td>\n",
       "      <td>V10367917</td>\n",
       "      <td>2011-06-14 12:20:00</td>\n",
       "      <td>2011-07-14 12:20:00</td>\n",
       "      <td>Individual</td>\n",
       "      <td>TX</td>\n",
       "      <td>77086</td>\n",
       "      <td>2300</td>\n",
       "      <td>...</td>\n",
       "      <td>0</td>\n",
       "      <td>205.0</td>\n",
       "      <td>533.0</td>\n",
       "      <td>WORM, JOHN</td>\n",
       "      <td>2266</td>\n",
       "      <td>Cadillac</td>\n",
       "      <td>1997.0</td>\n",
       "      <td></td>\n",
       "      <td>NaN</td>\n",
       "      <td>NaN</td>\n",
       "    </tr>\n",
       "    <tr>\n",
       "      <th>2</th>\n",
       "      <td>612402</td>\n",
       "      <td>440150.0</td>\n",
       "      <td>225966</td>\n",
       "      <td>V10367926</td>\n",
       "      <td>2011-06-17 16:13:00</td>\n",
       "      <td>2011-07-17 16:13:00</td>\n",
       "      <td>Individual</td>\n",
       "      <td>TX</td>\n",
       "      <td>77080</td>\n",
       "      <td>2300</td>\n",
       "      <td>...</td>\n",
       "      <td>0</td>\n",
       "      <td>205.0</td>\n",
       "      <td>0.0</td>\n",
       "      <td>WORM, JOHN</td>\n",
       "      <td>2266</td>\n",
       "      <td>Mercury</td>\n",
       "      <td>NaN</td>\n",
       "      <td></td>\n",
       "      <td>NaN</td>\n",
       "      <td>NaN</td>\n",
       "    </tr>\n",
       "    <tr>\n",
       "      <th>3</th>\n",
       "      <td>612470</td>\n",
       "      <td>441216.0</td>\n",
       "      <td>669745</td>\n",
       "      <td>V10272997</td>\n",
       "      <td>2011-06-05 09:49:00</td>\n",
       "      <td>2011-07-05 09:49:00</td>\n",
       "      <td>Individual</td>\n",
       "      <td>TX</td>\n",
       "      <td>77078</td>\n",
       "      <td>2955</td>\n",
       "      <td>...</td>\n",
       "      <td>0</td>\n",
       "      <td>205.0</td>\n",
       "      <td>0.0</td>\n",
       "      <td>KIZER, JEREMY</td>\n",
       "      <td>3785</td>\n",
       "      <td>Ford</td>\n",
       "      <td>1998.0</td>\n",
       "      <td></td>\n",
       "      <td>NaN</td>\n",
       "      <td>NaN</td>\n",
       "    </tr>\n",
       "    <tr>\n",
       "      <th>4</th>\n",
       "      <td>612513</td>\n",
       "      <td>434221.0</td>\n",
       "      <td>1010459</td>\n",
       "      <td>V20016841</td>\n",
       "      <td>2011-06-07 11:03:00</td>\n",
       "      <td>2011-07-07 11:03:00</td>\n",
       "      <td>Individual</td>\n",
       "      <td>TX</td>\n",
       "      <td>77007</td>\n",
       "      <td>4400</td>\n",
       "      <td>...</td>\n",
       "      <td>0</td>\n",
       "      <td>500.0</td>\n",
       "      <td>780.0</td>\n",
       "      <td>SMITH, ROBERT</td>\n",
       "      <td>2155</td>\n",
       "      <td>Ford</td>\n",
       "      <td>2003.0</td>\n",
       "      <td>Sports Utility Veh</td>\n",
       "      <td>NaN</td>\n",
       "      <td>NaN</td>\n",
       "    </tr>\n",
       "  </tbody>\n",
       "</table>\n",
       "<p>5 rows × 37 columns</p>\n",
       "</div>"
      ],
      "text/plain": [
       "   CON_UID  Entity_UID  Vehicle_Plate_Anon Invoice_Number        Invoice_Date  \\\n",
       "0   612399    441213.0             1051794      V10117186 2011-06-16 14:30:00   \n",
       "1   612401    441214.0              612548      V10367917 2011-06-14 12:20:00   \n",
       "2   612402    440150.0              225966      V10367926 2011-06-17 16:13:00   \n",
       "3   612470    441216.0              669745      V10272997 2011-06-05 09:49:00   \n",
       "4   612513    434221.0             1010459      V20016841 2011-06-07 11:03:00   \n",
       "\n",
       "     Invoice_Due_Date Entity_Type Billing_State_Abbrev Billing_Postal_Code  \\\n",
       "0 2011-07-16 14:30:00  Individual                   TX               77078   \n",
       "1 2011-07-14 12:20:00  Individual                   TX               77086   \n",
       "2 2011-07-17 16:13:00  Individual                   TX               77080   \n",
       "3 2011-07-05 09:49:00  Individual                   TX               77078   \n",
       "4 2011-07-07 11:03:00  Individual                   TX               77007   \n",
       "\n",
       "  Event_Block_Number    ...     CON_IS_NO_CONTEST Initial_Citation_Amount  \\\n",
       "0               7426    ...                     0                   205.0   \n",
       "1               2300    ...                     0                   205.0   \n",
       "2               2300    ...                     0                   205.0   \n",
       "3               2955    ...                     0                   205.0   \n",
       "4               4400    ...                     0                   500.0   \n",
       "\n",
       "  Amount_Outstanding  Citation_Officer Citation_Officer_UID Vehicle_Make  \\\n",
       "0                0.0     RECTOR, DAVID                 2148     Chrysler   \n",
       "1              533.0        WORM, JOHN                 2266     Cadillac   \n",
       "2                0.0        WORM, JOHN                 2266      Mercury   \n",
       "3                0.0     KIZER, JEREMY                 3785         Ford   \n",
       "4              780.0     SMITH, ROBERT                 2155         Ford   \n",
       "\n",
       "  Vehicle_Year       Vehicle_Style  Latitude  Longitude  \n",
       "0       2008.0                           NaN        NaN  \n",
       "1       1997.0                           NaN        NaN  \n",
       "2          NaN                           NaN        NaN  \n",
       "3       1998.0                           NaN        NaN  \n",
       "4       2003.0  Sports Utility Veh       NaN        NaN  \n",
       "\n",
       "[5 rows x 37 columns]"
      ]
     },
     "execution_count": 14,
     "metadata": {},
     "output_type": "execute_result"
    }
   ],
   "source": [
    "df.head()"
   ]
  },
  {
   "cell_type": "markdown",
   "metadata": {},
   "source": [
    "## Metadata\n",
    "\n",
    "\n",
    "https://www.houstontx.gov/parking/faq.html#boothearing"
   ]
  },
  {
   "cell_type": "markdown",
   "metadata": {},
   "source": [
    "| Column                    | Description                                                                                                                                                                                                                                                                                                                           |\n",
    "|---------------------------|---------------------------------------------------------------------------------------------------------------------------------------------------------------------------------------------------------------------------------------------------------------------------------------------------------------------------------------|\n",
    "| CON_UID                   | System generated unique identifier for the parking citation                                                                                                                                                                                                                                                                           |\n",
    "| Entity_UID                | Unique ID for the entity that received the parking citation. Sometimes an individual or company can have multiple entity IDs due to matching issues.                                                                                                                                                                                  |\n",
    "| Vehicle_Plate_Anon        | An anonymized version of the plate number. This anonymized number will always be consistent across files released on the same date (i.e. all files released on 5/1/2016) but may change from one release to the next (i.e. the assigned number may change 5/1/2016 to the 5/1/2017 release) to  ensure anonymity                      |\n",
    "| Invoice_Number            | The unique citation's number commonly referred to by the customer and Parking Management                                                                                                                                                                                                                                              |\n",
    "| Invoice_Date              | The date the citation was issued (usually the event date, but sometimes re-issued afterwards if a new owner is found)                                                                                                                                                                                                                 |\n",
    "| Invoice_Due_Date          | The due date of the citation's payment                                                                                                                                                                                                                                                                                                |\n",
    "| Entity_Type               | The type of entity receiving the citation                                                                                                                                                                                                                                                                                             |\n",
    "| Billing_State_Abbrev      | The state the entity resides in                                                                                                                                                                                                                                                                                                       |\n",
    "| Billing_Postal_Code       | The zip code the entity receiving the parking citation resides in                                                                                                                                                                                                                                                                     |\n",
    "| Event_Block_Number        | The city block the citation was issued in                                                                                                                                                                                                                                                                                             |\n",
    "| Event_Street              | The city street the citation was issued on                                                                                                                                                                                                                                                                                            |\n",
    "| Event_Date                | The issue date of the citation                                                                                                                                                                                                                                                                                                        |\n",
    "| Citation_Status           | The current status of the citation                                                                                                                                                                                                                                                                                                    |\n",
    "| Meter_Violation           | Whether the citation is tied directly to a meter violation (0=False or unknown/ 1=true)                                                                                                                                                                                                                                               |\n",
    "| Meter_Number              | The meter number associated with the violation                                                                                                                                                                                                                                                                                        |\n",
    "| Citation_Description_Code | The code for why the citation was issued                                                                                                                                                                                                                                                                                              |\n",
    "| Citation_Description      | Description of why the citation was issued                                                                                                                                                                                                                                                                                            |\n",
    "| VIC_LEGAL_DESCRIPTION     | Legal description of why the citation was issued                                                                                                                                                                                                                                                                                      |\n",
    "| CON_IS_WRITEOFF           | Was the citation written off (0=false/1=true)                                                                                                                                                                                                                                                                                         |\n",
    "| CON_IS_WARNING            | Is the citation a warning rather than a fine (0=false/1=true)                                                                                                                                                                                                                                                                         |\n",
    "| CON_IS_VOID               | Has the citation been voided (0=false/1=true)                                                                                                                                                                                                                                                                                         |\n",
    "| CON_IS_UNDER_APPEAL       | Is the citation under appeal (0=false/1=true)                                                                                                                                                                                                                                                                                         |\n",
    "| CON_IS_UNCOLLECTABLE      | Is the citation uncollectable (0=false/1=true)                                                                                                                                                                                                                                                                                        |\n",
    "| CON_IS_SPECIAL_STATUS     | Does the citation has a special status (0=false/1=true)                                                                                                                                                                                                                                                                               |\n",
    "| CON_IS_SOURCE_MANUAL      | Was the citation manually entered into the parking management system (0=false/1=true). This usually occurs for older tickets that were issued prior to the implementation of T2 when a customer comes in voluntarily to pay. This can also happen when a volunteer issues a handicap parking citation or a handheld device is broken. |\n",
    "| CON_IS_PREENTERED         |                                                                                                                                                                                                                                                                                                                                       |\n",
    "| CON_IS_ON_ADMIN_HOLD      | Is the citation on administrative hold (0=false/1=true)                                                                                                                                                                                                                                                                               |\n",
    "| CON_IS_NO_CONTEST         |                                                                                                                                                                                                                                                                                                                                       |\n",
    "| Initial_Citation_Amount   | The initial amount (or face value) of the citation when it was issued                                                                                                                                                                                                                                                                 |\n",
    "| Amount_Outstanding        | The amount currently due, including any delinquent collection fees imposed                                                                                                                                                                                                                                                            |\n",
    "| Citation_Officer          | Issuing Officer                                                                                                                                                                                                                                                                                                                       |\n",
    "| Citation_Officer_UID      | Issue Officer's unique identifier in the system                                                                                                                                                                                                                                                                                       |\n",
    "| Vehicle_Make              |                                                                                                                                                                                                                                                                                                                                       |\n",
    "| Vehicle_Year              |                                                                                                                                                                                                                                                                                                                                       |\n",
    "| Vehicle_Style             |                                                                                                                                                                                                                                                                                                                                       |\n",
    "| Latitude                  | The latitude reported by the handheld device. Handheld devices started reporting issuing location in mid-2014 but sometimes the coordinators are not captured                                                                                                                                                                         |\n",
    "| Longitude                 | The longitude reported by the handheld device. Handheld devices started reporting issuing location in mid-2014 but sometimes the coordinators are not captured                                                                                                                                                                        |"
   ]
  },
  {
   "cell_type": "markdown",
   "metadata": {},
   "source": [
    "# Check for missing values"
   ]
  },
  {
   "cell_type": "code",
   "execution_count": 15,
   "metadata": {},
   "outputs": [
    {
     "data": {
      "text/plain": [
       "CON_UID                           0\n",
       "Entity_UID                    37004\n",
       "Vehicle_Plate_Anon                0\n",
       "Invoice_Number                    0\n",
       "Invoice_Date                      0\n",
       "Invoice_Due_Date                  0\n",
       "Entity_Type                   37004\n",
       "Billing_State_Abbrev          37109\n",
       "Billing_Postal_Code           37161\n",
       "Event_Block_Number             2930\n",
       "Event_Street                      1\n",
       "Event_Date                        0\n",
       "Citation_Status                   0\n",
       "Meter_Violation                   0\n",
       "Meter_Number                 137715\n",
       "Citation_Description_Code         0\n",
       "Citation_Description              0\n",
       "VIC_LEGAL_DESCRIPTION          2050\n",
       "CON_IS_WRITEOFF                   0\n",
       "CON_IS_WARNING                    0\n",
       "CON_IS_VOID                       0\n",
       "CON_IS_UNDER_APPEAL               0\n",
       "CON_IS_UNCOLLECTABLE              0\n",
       "CON_IS_SPECIAL_STATUS             0\n",
       "CON_IS_SOURCE_MANUAL              0\n",
       "CON_IS_PREENTERED                 0\n",
       "CON_IS_ON_ADMIN_HOLD              0\n",
       "CON_IS_NO_CONTEST                 0\n",
       "Initial_Citation_Amount           0\n",
       "Amount_Outstanding                0\n",
       "Citation_Officer               5055\n",
       "Citation_Officer_UID              0\n",
       "Vehicle_Make                      0\n",
       "Vehicle_Year                  49364\n",
       "Vehicle_Style                     0\n",
       "Latitude                     205183\n",
       "Longitude                    205183\n",
       "dtype: int64"
      ]
     },
     "execution_count": 15,
     "metadata": {},
     "output_type": "execute_result"
    }
   ],
   "source": [
    "df.apply(lambda x: sum(x.isnull()))"
   ]
  },
  {
   "cell_type": "code",
   "execution_count": 16,
   "metadata": {},
   "outputs": [
    {
     "data": {
      "image/png": "[encoded data removed]",
      "text/plain": [
       "<Figure size 432x288 with 1 Axes>"
      ]
     },
     "metadata": {},
     "output_type": "display_data"
    }
   ],
   "source": [
    "sns.heatmap(df.isnull(),yticklabels=False,cbar=False,cmap='viridis')\n",
    "plt.title('Null dataset display')\n",
    "plt.show()"
   ]
  },
  {
   "cell_type": "markdown",
   "metadata": {},
   "source": [
    "## Cleanup\n",
    "- lowercase column names\n",
    "- check for dtypes"
   ]
  },
  {
   "cell_type": "code",
   "execution_count": 17,
   "metadata": {},
   "outputs": [],
   "source": [
    "# Map the lowering function to all column names\n",
    "df.columns = map(str.lower, df.columns)"
   ]
  },
  {
   "cell_type": "code",
   "execution_count": 18,
   "metadata": {},
   "outputs": [
    {
     "data": {
      "text/html": [
       "<div>\n",
       "<style scoped>\n",
       "    .dataframe tbody tr th:only-of-type {\n",
       "        vertical-align: middle;\n",
       "    }\n",
       "\n",
       "    .dataframe tbody tr th {\n",
       "        vertical-align: top;\n",
       "    }\n",
       "\n",
       "    .dataframe thead th {\n",
       "        text-align: right;\n",
       "    }\n",
       "</style>\n",
       "<table border=\"1\" class=\"dataframe\">\n",
       "  <thead>\n",
       "    <tr style=\"text-align: right;\">\n",
       "      <th></th>\n",
       "      <th>con_uid</th>\n",
       "      <th>entity_uid</th>\n",
       "      <th>vehicle_plate_anon</th>\n",
       "      <th>invoice_number</th>\n",
       "      <th>invoice_date</th>\n",
       "      <th>invoice_due_date</th>\n",
       "      <th>entity_type</th>\n",
       "      <th>billing_state_abbrev</th>\n",
       "      <th>billing_postal_code</th>\n",
       "      <th>event_block_number</th>\n",
       "      <th>...</th>\n",
       "      <th>con_is_no_contest</th>\n",
       "      <th>initial_citation_amount</th>\n",
       "      <th>amount_outstanding</th>\n",
       "      <th>citation_officer</th>\n",
       "      <th>citation_officer_uid</th>\n",
       "      <th>vehicle_make</th>\n",
       "      <th>vehicle_year</th>\n",
       "      <th>vehicle_style</th>\n",
       "      <th>latitude</th>\n",
       "      <th>longitude</th>\n",
       "    </tr>\n",
       "  </thead>\n",
       "  <tbody>\n",
       "    <tr>\n",
       "      <th>0</th>\n",
       "      <td>612399</td>\n",
       "      <td>441213.0</td>\n",
       "      <td>1051794</td>\n",
       "      <td>V10117186</td>\n",
       "      <td>2011-06-16 14:30:00</td>\n",
       "      <td>2011-07-16 14:30:00</td>\n",
       "      <td>Individual</td>\n",
       "      <td>TX</td>\n",
       "      <td>77078</td>\n",
       "      <td>7426</td>\n",
       "      <td>...</td>\n",
       "      <td>0</td>\n",
       "      <td>205.0</td>\n",
       "      <td>0.0</td>\n",
       "      <td>RECTOR, DAVID</td>\n",
       "      <td>2148</td>\n",
       "      <td>Chrysler</td>\n",
       "      <td>2008.0</td>\n",
       "      <td></td>\n",
       "      <td>NaN</td>\n",
       "      <td>NaN</td>\n",
       "    </tr>\n",
       "    <tr>\n",
       "      <th>1</th>\n",
       "      <td>612401</td>\n",
       "      <td>441214.0</td>\n",
       "      <td>612548</td>\n",
       "      <td>V10367917</td>\n",
       "      <td>2011-06-14 12:20:00</td>\n",
       "      <td>2011-07-14 12:20:00</td>\n",
       "      <td>Individual</td>\n",
       "      <td>TX</td>\n",
       "      <td>77086</td>\n",
       "      <td>2300</td>\n",
       "      <td>...</td>\n",
       "      <td>0</td>\n",
       "      <td>205.0</td>\n",
       "      <td>533.0</td>\n",
       "      <td>WORM, JOHN</td>\n",
       "      <td>2266</td>\n",
       "      <td>Cadillac</td>\n",
       "      <td>1997.0</td>\n",
       "      <td></td>\n",
       "      <td>NaN</td>\n",
       "      <td>NaN</td>\n",
       "    </tr>\n",
       "    <tr>\n",
       "      <th>2</th>\n",
       "      <td>612402</td>\n",
       "      <td>440150.0</td>\n",
       "      <td>225966</td>\n",
       "      <td>V10367926</td>\n",
       "      <td>2011-06-17 16:13:00</td>\n",
       "      <td>2011-07-17 16:13:00</td>\n",
       "      <td>Individual</td>\n",
       "      <td>TX</td>\n",
       "      <td>77080</td>\n",
       "      <td>2300</td>\n",
       "      <td>...</td>\n",
       "      <td>0</td>\n",
       "      <td>205.0</td>\n",
       "      <td>0.0</td>\n",
       "      <td>WORM, JOHN</td>\n",
       "      <td>2266</td>\n",
       "      <td>Mercury</td>\n",
       "      <td>NaN</td>\n",
       "      <td></td>\n",
       "      <td>NaN</td>\n",
       "      <td>NaN</td>\n",
       "    </tr>\n",
       "    <tr>\n",
       "      <th>3</th>\n",
       "      <td>612470</td>\n",
       "      <td>441216.0</td>\n",
       "      <td>669745</td>\n",
       "      <td>V10272997</td>\n",
       "      <td>2011-06-05 09:49:00</td>\n",
       "      <td>2011-07-05 09:49:00</td>\n",
       "      <td>Individual</td>\n",
       "      <td>TX</td>\n",
       "      <td>77078</td>\n",
       "      <td>2955</td>\n",
       "      <td>...</td>\n",
       "      <td>0</td>\n",
       "      <td>205.0</td>\n",
       "      <td>0.0</td>\n",
       "      <td>KIZER, JEREMY</td>\n",
       "      <td>3785</td>\n",
       "      <td>Ford</td>\n",
       "      <td>1998.0</td>\n",
       "      <td></td>\n",
       "      <td>NaN</td>\n",
       "      <td>NaN</td>\n",
       "    </tr>\n",
       "    <tr>\n",
       "      <th>4</th>\n",
       "      <td>612513</td>\n",
       "      <td>434221.0</td>\n",
       "      <td>1010459</td>\n",
       "      <td>V20016841</td>\n",
       "      <td>2011-06-07 11:03:00</td>\n",
       "      <td>2011-07-07 11:03:00</td>\n",
       "      <td>Individual</td>\n",
       "      <td>TX</td>\n",
       "      <td>77007</td>\n",
       "      <td>4400</td>\n",
       "      <td>...</td>\n",
       "      <td>0</td>\n",
       "      <td>500.0</td>\n",
       "      <td>780.0</td>\n",
       "      <td>SMITH, ROBERT</td>\n",
       "      <td>2155</td>\n",
       "      <td>Ford</td>\n",
       "      <td>2003.0</td>\n",
       "      <td>Sports Utility Veh</td>\n",
       "      <td>NaN</td>\n",
       "      <td>NaN</td>\n",
       "    </tr>\n",
       "    <tr>\n",
       "      <th>5</th>\n",
       "      <td>612528</td>\n",
       "      <td>NaN</td>\n",
       "      <td>90559</td>\n",
       "      <td>V20024846</td>\n",
       "      <td>2011-06-19 22:20:00</td>\n",
       "      <td>2011-07-19 22:20:00</td>\n",
       "      <td>NaN</td>\n",
       "      <td>NaN</td>\n",
       "      <td>NaN</td>\n",
       "      <td>2727</td>\n",
       "      <td>...</td>\n",
       "      <td>0</td>\n",
       "      <td>500.0</td>\n",
       "      <td>780.0</td>\n",
       "      <td>KORNICZKY, JENNIFER</td>\n",
       "      <td>3784</td>\n",
       "      <td>Nissan</td>\n",
       "      <td>NaN</td>\n",
       "      <td></td>\n",
       "      <td>NaN</td>\n",
       "      <td>NaN</td>\n",
       "    </tr>\n",
       "    <tr>\n",
       "      <th>6</th>\n",
       "      <td>612529</td>\n",
       "      <td>NaN</td>\n",
       "      <td>305710</td>\n",
       "      <td>V20011993</td>\n",
       "      <td>2011-06-01 18:11:00</td>\n",
       "      <td>2011-07-01 18:11:00</td>\n",
       "      <td>NaN</td>\n",
       "      <td>NaN</td>\n",
       "      <td>NaN</td>\n",
       "      <td>10245</td>\n",
       "      <td>...</td>\n",
       "      <td>0</td>\n",
       "      <td>500.0</td>\n",
       "      <td>0.0</td>\n",
       "      <td>SMITH, ROBERT</td>\n",
       "      <td>2155</td>\n",
       "      <td>Dodge</td>\n",
       "      <td>NaN</td>\n",
       "      <td></td>\n",
       "      <td>NaN</td>\n",
       "      <td>NaN</td>\n",
       "    </tr>\n",
       "    <tr>\n",
       "      <th>7</th>\n",
       "      <td>612539</td>\n",
       "      <td>441221.0</td>\n",
       "      <td>463906</td>\n",
       "      <td>V20016805</td>\n",
       "      <td>2011-06-01 19:58:00</td>\n",
       "      <td>2011-07-01 19:58:00</td>\n",
       "      <td>Individual</td>\n",
       "      <td>TX</td>\n",
       "      <td>77080</td>\n",
       "      <td>10123</td>\n",
       "      <td>...</td>\n",
       "      <td>0</td>\n",
       "      <td>500.0</td>\n",
       "      <td>780.0</td>\n",
       "      <td>SMITH, ROBERT</td>\n",
       "      <td>2155</td>\n",
       "      <td>Nissan</td>\n",
       "      <td>2004.0</td>\n",
       "      <td></td>\n",
       "      <td>NaN</td>\n",
       "      <td>NaN</td>\n",
       "    </tr>\n",
       "    <tr>\n",
       "      <th>8</th>\n",
       "      <td>612541</td>\n",
       "      <td>441223.0</td>\n",
       "      <td>589955</td>\n",
       "      <td>V20022423</td>\n",
       "      <td>2011-06-13 14:00:00</td>\n",
       "      <td>2011-07-13 14:00:00</td>\n",
       "      <td>Individual</td>\n",
       "      <td>TX</td>\n",
       "      <td>77096</td>\n",
       "      <td>7731</td>\n",
       "      <td>...</td>\n",
       "      <td>0</td>\n",
       "      <td>500.0</td>\n",
       "      <td>0.0</td>\n",
       "      <td>RAMOS, DON</td>\n",
       "      <td>2741</td>\n",
       "      <td>Nissan</td>\n",
       "      <td>2010.0</td>\n",
       "      <td></td>\n",
       "      <td>NaN</td>\n",
       "      <td>NaN</td>\n",
       "    </tr>\n",
       "    <tr>\n",
       "      <th>9</th>\n",
       "      <td>612549</td>\n",
       "      <td>441224.0</td>\n",
       "      <td>241338</td>\n",
       "      <td>V20016035</td>\n",
       "      <td>2011-06-01 20:03:00</td>\n",
       "      <td>2011-07-01 20:03:00</td>\n",
       "      <td>Individual</td>\n",
       "      <td>TX</td>\n",
       "      <td>77009</td>\n",
       "      <td>7426</td>\n",
       "      <td>...</td>\n",
       "      <td>0</td>\n",
       "      <td>500.0</td>\n",
       "      <td>0.0</td>\n",
       "      <td>BOUDREAUX, RAYMOND</td>\n",
       "      <td>3782</td>\n",
       "      <td>Ford</td>\n",
       "      <td>1990.0</td>\n",
       "      <td>Van</td>\n",
       "      <td>NaN</td>\n",
       "      <td>NaN</td>\n",
       "    </tr>\n",
       "    <tr>\n",
       "      <th>10</th>\n",
       "      <td>612550</td>\n",
       "      <td>441225.0</td>\n",
       "      <td>450045</td>\n",
       "      <td>V20016026</td>\n",
       "      <td>2011-06-01 19:29:00</td>\n",
       "      <td>2011-07-01 19:29:00</td>\n",
       "      <td>Individual</td>\n",
       "      <td>TX</td>\n",
       "      <td>77060</td>\n",
       "      <td>428</td>\n",
       "      <td>...</td>\n",
       "      <td>0</td>\n",
       "      <td>500.0</td>\n",
       "      <td>780.0</td>\n",
       "      <td>BOUDREAUX, RAYMOND</td>\n",
       "      <td>3782</td>\n",
       "      <td>Ford</td>\n",
       "      <td>2001.0</td>\n",
       "      <td></td>\n",
       "      <td>NaN</td>\n",
       "      <td>NaN</td>\n",
       "    </tr>\n",
       "  </tbody>\n",
       "</table>\n",
       "<p>11 rows × 37 columns</p>\n",
       "</div>"
      ],
      "text/plain": [
       "    con_uid  entity_uid  vehicle_plate_anon invoice_number  \\\n",
       "0    612399    441213.0             1051794      V10117186   \n",
       "1    612401    441214.0              612548      V10367917   \n",
       "2    612402    440150.0              225966      V10367926   \n",
       "3    612470    441216.0              669745      V10272997   \n",
       "4    612513    434221.0             1010459      V20016841   \n",
       "5    612528         NaN               90559      V20024846   \n",
       "6    612529         NaN              305710      V20011993   \n",
       "7    612539    441221.0              463906      V20016805   \n",
       "8    612541    441223.0              589955      V20022423   \n",
       "9    612549    441224.0              241338      V20016035   \n",
       "10   612550    441225.0              450045      V20016026   \n",
       "\n",
       "          invoice_date    invoice_due_date entity_type billing_state_abbrev  \\\n",
       "0  2011-06-16 14:30:00 2011-07-16 14:30:00  Individual                   TX   \n",
       "1  2011-06-14 12:20:00 2011-07-14 12:20:00  Individual                   TX   \n",
       "2  2011-06-17 16:13:00 2011-07-17 16:13:00  Individual                   TX   \n",
       "3  2011-06-05 09:49:00 2011-07-05 09:49:00  Individual                   TX   \n",
       "4  2011-06-07 11:03:00 2011-07-07 11:03:00  Individual                   TX   \n",
       "5  2011-06-19 22:20:00 2011-07-19 22:20:00         NaN                  NaN   \n",
       "6  2011-06-01 18:11:00 2011-07-01 18:11:00         NaN                  NaN   \n",
       "7  2011-06-01 19:58:00 2011-07-01 19:58:00  Individual                   TX   \n",
       "8  2011-06-13 14:00:00 2011-07-13 14:00:00  Individual                   TX   \n",
       "9  2011-06-01 20:03:00 2011-07-01 20:03:00  Individual                   TX   \n",
       "10 2011-06-01 19:29:00 2011-07-01 19:29:00  Individual                   TX   \n",
       "\n",
       "   billing_postal_code event_block_number    ...     con_is_no_contest  \\\n",
       "0                77078               7426    ...                     0   \n",
       "1                77086               2300    ...                     0   \n",
       "2                77080               2300    ...                     0   \n",
       "3                77078               2955    ...                     0   \n",
       "4                77007               4400    ...                     0   \n",
       "5                  NaN               2727    ...                     0   \n",
       "6                  NaN              10245    ...                     0   \n",
       "7                77080              10123    ...                     0   \n",
       "8                77096               7731    ...                     0   \n",
       "9                77009               7426    ...                     0   \n",
       "10               77060                428    ...                     0   \n",
       "\n",
       "   initial_citation_amount amount_outstanding     citation_officer  \\\n",
       "0                    205.0                0.0        RECTOR, DAVID   \n",
       "1                    205.0              533.0           WORM, JOHN   \n",
       "2                    205.0                0.0           WORM, JOHN   \n",
       "3                    205.0                0.0        KIZER, JEREMY   \n",
       "4                    500.0              780.0        SMITH, ROBERT   \n",
       "5                    500.0              780.0  KORNICZKY, JENNIFER   \n",
       "6                    500.0                0.0        SMITH, ROBERT   \n",
       "7                    500.0              780.0        SMITH, ROBERT   \n",
       "8                    500.0                0.0           RAMOS, DON   \n",
       "9                    500.0                0.0   BOUDREAUX, RAYMOND   \n",
       "10                   500.0              780.0   BOUDREAUX, RAYMOND   \n",
       "\n",
       "   citation_officer_uid vehicle_make vehicle_year       vehicle_style  \\\n",
       "0                  2148     Chrysler       2008.0                       \n",
       "1                  2266     Cadillac       1997.0                       \n",
       "2                  2266      Mercury          NaN                       \n",
       "3                  3785         Ford       1998.0                       \n",
       "4                  2155         Ford       2003.0  Sports Utility Veh   \n",
       "5                  3784       Nissan          NaN                       \n",
       "6                  2155        Dodge          NaN                       \n",
       "7                  2155       Nissan       2004.0                       \n",
       "8                  2741       Nissan       2010.0                       \n",
       "9                  3782         Ford       1990.0                 Van   \n",
       "10                 3782         Ford       2001.0                       \n",
       "\n",
       "    latitude  longitude  \n",
       "0        NaN        NaN  \n",
       "1        NaN        NaN  \n",
       "2        NaN        NaN  \n",
       "3        NaN        NaN  \n",
       "4        NaN        NaN  \n",
       "5        NaN        NaN  \n",
       "6        NaN        NaN  \n",
       "7        NaN        NaN  \n",
       "8        NaN        NaN  \n",
       "9        NaN        NaN  \n",
       "10       NaN        NaN  \n",
       "\n",
       "[11 rows x 37 columns]"
      ]
     },
     "execution_count": 18,
     "metadata": {},
     "output_type": "execute_result"
    }
   ],
   "source": [
    "df.head(11)"
   ]
  },
  {
   "cell_type": "code",
   "execution_count": 19,
   "metadata": {},
   "outputs": [
    {
     "data": {
      "text/plain": [
       "con_uid                               int64\n",
       "entity_uid                          float64\n",
       "vehicle_plate_anon                    int64\n",
       "invoice_number                       object\n",
       "invoice_date                 datetime64[ns]\n",
       "invoice_due_date             datetime64[ns]\n",
       "entity_type                          object\n",
       "billing_state_abbrev                 object\n",
       "billing_postal_code                  object\n",
       "event_block_number                   object\n",
       "event_street                         object\n",
       "event_date                   datetime64[ns]\n",
       "citation_status                      object\n",
       "meter_violation                       int64\n",
       "meter_number                         object\n",
       "citation_description_code            object\n",
       "citation_description                 object\n",
       "vic_legal_description                object\n",
       "con_is_writeoff                       int64\n",
       "con_is_warning                        int64\n",
       "con_is_void                           int64\n",
       "con_is_under_appeal                   int64\n",
       "con_is_uncollectable                  int64\n",
       "con_is_special_status                 int64\n",
       "con_is_source_manual                  int64\n",
       "con_is_preentered                     int64\n",
       "con_is_on_admin_hold                  int64\n",
       "con_is_no_contest                     int64\n",
       "initial_citation_amount             float64\n",
       "amount_outstanding                  float64\n",
       "citation_officer                     object\n",
       "citation_officer_uid                  int64\n",
       "vehicle_make                         object\n",
       "vehicle_year                        float64\n",
       "vehicle_style                        object\n",
       "latitude                            float64\n",
       "longitude                           float64\n",
       "dtype: object"
      ]
     },
     "execution_count": 19,
     "metadata": {},
     "output_type": "execute_result"
    }
   ],
   "source": [
    "df.dtypes"
   ]
  },
  {
   "cell_type": "markdown",
   "metadata": {},
   "source": [
    "# Inspect each col\n",
    "\n",
    "## `con_uid`: \n",
    "### System generated unique identifier for the parking citation\n",
    "- unique values: 205184"
   ]
  },
  {
   "cell_type": "code",
   "execution_count": 20,
   "metadata": {},
   "outputs": [
    {
     "data": {
      "text/plain": [
       "526335    1\n",
       "440962    1\n",
       "445068    1\n",
       "455307    1\n",
       "457354    1\n",
       "451209    1\n",
       "453256    1\n",
       "430727    1\n",
       "432774    1\n",
       "426629    1\n",
       "Name: con_uid, dtype: int64"
      ]
     },
     "execution_count": 20,
     "metadata": {},
     "output_type": "execute_result"
    }
   ],
   "source": [
    "df.con_uid.value_counts(dropna=False)[:10]"
   ]
  },
  {
   "cell_type": "code",
   "execution_count": 21,
   "metadata": {},
   "outputs": [
    {
     "data": {
      "text/plain": [
       "205184"
      ]
     },
     "execution_count": 21,
     "metadata": {},
     "output_type": "execute_result"
    }
   ],
   "source": [
    "len(df.con_uid.unique())"
   ]
  },
  {
   "cell_type": "markdown",
   "metadata": {},
   "source": [
    "## `entity_uid`\n",
    "### Unique ID for the entity that received the parking citation. Sometimes an individual or company can have multiple entity IDs due to matching issues. \n",
    "- 37004 NaN \n",
    "- total unique: 127693"
   ]
  },
  {
   "cell_type": "code",
   "execution_count": 22,
   "metadata": {},
   "outputs": [
    {
     "data": {
      "text/plain": [
       "NaN          37004\n",
       " 264736.0     1481\n",
       " 570721.0     1436\n",
       " 368899.0     1154\n",
       " 378166.0      715\n",
       " 296883.0      537\n",
       " 198240.0      349\n",
       " 564282.0      249\n",
       " 334996.0      231\n",
       " 235394.0      209\n",
       " 389743.0      176\n",
       " 254911.0      159\n",
       " 264125.0      144\n",
       " 485443.0      128\n",
       " 369161.0      123\n",
       " 732783.0       88\n",
       " 19147.0        80\n",
       " 334940.0       80\n",
       " 402932.0       77\n",
       " 369256.0       76\n",
       " 302228.0       74\n",
       " 502191.0       70\n",
       " 269620.0       69\n",
       " 403609.0       66\n",
       " 549713.0       59\n",
       " 240137.0       58\n",
       " 369422.0       56\n",
       " 486951.0       55\n",
       " 371761.0       52\n",
       " 370346.0       48\n",
       "             ...  \n",
       " 332440.0        1\n",
       " 332441.0        1\n",
       " 379236.0        1\n",
       " 332419.0        1\n",
       " 332418.0        1\n",
       " 332417.0        1\n",
       " 332408.0        1\n",
       " 379243.0        1\n",
       " 332401.0        1\n",
       " 332402.0        1\n",
       " 284302.0        1\n",
       " 332403.0        1\n",
       " 332404.0        1\n",
       " 332405.0        1\n",
       " 332406.0        1\n",
       " 332407.0        1\n",
       " 295900.0        1\n",
       " 379242.0        1\n",
       " 379238.0        1\n",
       " 332409.0        1\n",
       " 332410.0        1\n",
       " 332411.0        1\n",
       " 332412.0        1\n",
       " 302276.0        1\n",
       " 332413.0        1\n",
       " 332414.0        1\n",
       " 294982.0        1\n",
       " 332415.0        1\n",
       " 390172.0        1\n",
       " 323520.0        1\n",
       "Name: entity_uid, Length: 127693, dtype: int64"
      ]
     },
     "execution_count": 22,
     "metadata": {},
     "output_type": "execute_result"
    }
   ],
   "source": [
    "df.entity_uid.value_counts(dropna=False)"
   ]
  },
  {
   "cell_type": "code",
   "execution_count": 23,
   "metadata": {},
   "outputs": [
    {
     "data": {
      "text/plain": [
       "127693"
      ]
     },
     "execution_count": 23,
     "metadata": {},
     "output_type": "execute_result"
    }
   ],
   "source": [
    "len(df.entity_uid.unique())"
   ]
  },
  {
   "cell_type": "markdown",
   "metadata": {},
   "source": [
    "## `vehicle_plate_anon`\n",
    "###  An anonymized version of the plate number. This anonymized number will always be consistent across files released on the same date (i.e. all files released on 5/1/2016) but may change from one release to the next (i.e. the assigned number may change 5/1/2016 to the 5/1/2017 release) to  ensure anonymity\n",
    "- 168587\n"
   ]
  },
  {
   "cell_type": "code",
   "execution_count": 24,
   "metadata": {},
   "outputs": [
    {
     "data": {
      "text/plain": [
       "200677    224\n",
       "182442    197\n",
       "116217    190\n",
       "330974    141\n",
       "326991    134\n",
       "290684    102\n",
       "200966     98\n",
       "152946     91\n",
       "130767     87\n",
       "315258     86\n",
       "Name: vehicle_plate_anon, dtype: int64"
      ]
     },
     "execution_count": 24,
     "metadata": {},
     "output_type": "execute_result"
    }
   ],
   "source": [
    "df.vehicle_plate_anon.value_counts(dropna=False)[:10]"
   ]
  },
  {
   "cell_type": "code",
   "execution_count": 25,
   "metadata": {},
   "outputs": [
    {
     "data": {
      "text/plain": [
       "168587"
      ]
     },
     "execution_count": 25,
     "metadata": {},
     "output_type": "execute_result"
    }
   ],
   "source": [
    "len(df.vehicle_plate_anon.unique())"
   ]
  },
  {
   "cell_type": "markdown",
   "metadata": {},
   "source": [
    "## `invoice_number`\n",
    "### The unique citation's number commonly referred to by the customer and Parking Management"
   ]
  },
  {
   "cell_type": "code",
   "execution_count": 26,
   "metadata": {},
   "outputs": [
    {
     "data": {
      "text/plain": [
       "HX20001107    1\n",
       "HX35003947    1\n",
       "HX18003710    1\n",
       "HX19004088    1\n",
       "HX31001079    1\n",
       "HX1501800     1\n",
       "P26005567     1\n",
       "P24435031     1\n",
       "BH576JKM93    1\n",
       "HX03002446    1\n",
       "Name: invoice_number, dtype: int64"
      ]
     },
     "execution_count": 26,
     "metadata": {},
     "output_type": "execute_result"
    }
   ],
   "source": [
    "df.invoice_number.value_counts(dropna=False)[:10]"
   ]
  },
  {
   "cell_type": "markdown",
   "metadata": {},
   "source": [
    "## `invoice_date`\n",
    "### The date the citation was issued (usually the event date, but sometimes re-issued afterwards if a new owner is found)"
   ]
  },
  {
   "cell_type": "code",
   "execution_count": 27,
   "metadata": {},
   "outputs": [
    {
     "data": {
      "text/plain": [
       "2011-01-21 01:00:00    34\n",
       "2011-04-20 01:00:00    25\n",
       "2011-01-26 01:00:00    24\n",
       "2011-01-28 01:00:00    23\n",
       "2011-01-25 01:00:00    20\n",
       "2010-12-22 01:00:00    20\n",
       "2011-01-04 01:00:00    20\n",
       "2011-04-18 01:00:00    18\n",
       "2011-02-21 01:00:00    18\n",
       "2011-03-15 01:00:00    18\n",
       "Name: invoice_date, dtype: int64"
      ]
     },
     "execution_count": 27,
     "metadata": {},
     "output_type": "execute_result"
    }
   ],
   "source": [
    "df.invoice_date.value_counts(dropna=False)[:10]"
   ]
  },
  {
   "cell_type": "markdown",
   "metadata": {},
   "source": [
    "## `invoice_due_date`\n",
    "### The due date of the citation's payment"
   ]
  },
  {
   "cell_type": "code",
   "execution_count": 28,
   "metadata": {},
   "outputs": [
    {
     "data": {
      "text/plain": [
       "2011-02-20 01:00:00    34\n",
       "2011-05-20 01:00:00    25\n",
       "2011-02-25 01:00:00    24\n",
       "2011-02-27 01:00:00    23\n",
       "2011-01-21 01:00:00    20\n",
       "2011-02-24 01:00:00    20\n",
       "2011-02-03 01:00:00    20\n",
       "2011-06-09 01:00:00    18\n",
       "2011-05-21 01:00:00    18\n",
       "2011-04-14 01:00:00    18\n",
       "Name: invoice_due_date, dtype: int64"
      ]
     },
     "execution_count": 28,
     "metadata": {},
     "output_type": "execute_result"
    }
   ],
   "source": [
    "df.invoice_due_date.value_counts(dropna=False)[:10]"
   ]
  },
  {
   "cell_type": "markdown",
   "metadata": {},
   "source": [
    "## `entity_type`\n",
    "### The type of entity receiving the citation\n"
   ]
  },
  {
   "cell_type": "code",
   "execution_count": 29,
   "metadata": {},
   "outputs": [
    {
     "data": {
      "text/plain": [
       "Individual    158848\n",
       "NaN            37004\n",
       "Group           9332\n",
       "Name: entity_type, dtype: int64"
      ]
     },
     "execution_count": 29,
     "metadata": {},
     "output_type": "execute_result"
    }
   ],
   "source": [
    "df.entity_type.value_counts(dropna=False)[:10]"
   ]
  },
  {
   "cell_type": "markdown",
   "metadata": {},
   "source": [
    "## `billing_state_abbrev`\n",
    "### The state the entity resides in\n"
   ]
  },
  {
   "cell_type": "code",
   "execution_count": 30,
   "metadata": {},
   "outputs": [
    {
     "data": {
      "text/plain": [
       "TX     159528\n",
       "NaN     37109\n",
       "NJ       2064\n",
       "LA       1051\n",
       "OK       1009\n",
       "IL        484\n",
       "FL        418\n",
       "AZ        370\n",
       "MD        247\n",
       "GA        226\n",
       "Name: billing_state_abbrev, dtype: int64"
      ]
     },
     "execution_count": 30,
     "metadata": {},
     "output_type": "execute_result"
    }
   ],
   "source": [
    "df.billing_state_abbrev.value_counts(dropna=False)[:10]"
   ]
  },
  {
   "cell_type": "markdown",
   "metadata": {},
   "source": [
    "## `billing_postal_code`\n",
    "### The zip code the entity receiving the parking citation resides in\n"
   ]
  },
  {
   "cell_type": "code",
   "execution_count": 31,
   "metadata": {},
   "outputs": [
    {
     "data": {
      "text/plain": [
       "NaN      37161\n",
       "77007     3072\n",
       "77009     2675\n",
       "77004     2405\n",
       "77006     2264\n",
       "77008     2158\n",
       "77019     2045\n",
       "08054     1965\n",
       "77057     1942\n",
       "77037     1868\n",
       "Name: billing_postal_code, dtype: int64"
      ]
     },
     "execution_count": 31,
     "metadata": {},
     "output_type": "execute_result"
    }
   ],
   "source": [
    "df.billing_postal_code.value_counts(dropna=False)[:10]"
   ]
  },
  {
   "cell_type": "markdown",
   "metadata": {},
   "source": [
    "## `event_block_number`\n",
    "### The city block the citation was issued in\n"
   ]
  },
  {
   "cell_type": "code",
   "execution_count": 32,
   "metadata": {},
   "outputs": [
    {
     "data": {
      "text/plain": [
       "900     12554\n",
       "1000    11662\n",
       "1400    10988\n",
       "1100    10956\n",
       "1200     8933\n",
       "800      8840\n",
       "500      8251\n",
       "1300     7367\n",
       "1500     7204\n",
       "700      6911\n",
       "Name: event_block_number, dtype: int64"
      ]
     },
     "execution_count": 32,
     "metadata": {},
     "output_type": "execute_result"
    }
   ],
   "source": [
    "df.event_block_number.value_counts(dropna=False)[:10]"
   ]
  },
  {
   "cell_type": "markdown",
   "metadata": {},
   "source": [
    "## `event_street`\n",
    "### The city street the citation was issued on\n"
   ]
  },
  {
   "cell_type": "code",
   "execution_count": 33,
   "metadata": {},
   "outputs": [
    {
     "data": {
      "text/plain": [
       "TEXAS ST       6906\n",
       "CAROLINE ST    5903\n",
       "CAPITOL ST     5334\n",
       "WALKER ST      5287\n",
       "MCKINNEY ST    4931\n",
       "AUSTIN ST      4485\n",
       "HERMANN DR     4195\n",
       "LAMAR ST       4115\n",
       "TRAVIS ST      3647\n",
       "DALLAS ST      3624\n",
       "Name: event_street, dtype: int64"
      ]
     },
     "execution_count": 33,
     "metadata": {},
     "output_type": "execute_result"
    }
   ],
   "source": [
    "df.event_street.value_counts(dropna=False)[:10]"
   ]
  },
  {
   "cell_type": "markdown",
   "metadata": {},
   "source": [
    "## `event_date`\n",
    "### The issue date of the citation\n"
   ]
  },
  {
   "cell_type": "code",
   "execution_count": 34,
   "metadata": {},
   "outputs": [
    {
     "data": {
      "text/plain": [
       "2011-01-21 01:00:00    34\n",
       "2011-04-20 01:00:00    25\n",
       "2011-01-26 01:00:00    24\n",
       "2011-01-28 01:00:00    23\n",
       "2011-01-25 01:00:00    20\n",
       "2010-12-22 01:00:00    20\n",
       "2011-01-04 01:00:00    20\n",
       "2011-04-18 01:00:00    18\n",
       "2011-02-21 01:00:00    18\n",
       "2011-03-15 01:00:00    18\n",
       "Name: event_date, dtype: int64"
      ]
     },
     "execution_count": 34,
     "metadata": {},
     "output_type": "execute_result"
    }
   ],
   "source": [
    "df.event_date.value_counts(dropna=False)[:10]"
   ]
  },
  {
   "cell_type": "markdown",
   "metadata": {},
   "source": [
    "## `citation_status`\n",
    "### The current status of the citation\n"
   ]
  },
  {
   "cell_type": "code",
   "execution_count": 36,
   "metadata": {},
   "outputs": [
    {
     "data": {
      "text/plain": [
       "Zero Balance             158656\n",
       "Unpaid                    45829\n",
       "Appeal No Balance Due       450\n",
       "Inactive                    236\n",
       "Appeal Balance Due           13\n",
       "Name: citation_status, dtype: int64"
      ]
     },
     "execution_count": 36,
     "metadata": {},
     "output_type": "execute_result"
    }
   ],
   "source": [
    "df.citation_status.value_counts(dropna=False)"
   ]
  },
  {
   "cell_type": "markdown",
   "metadata": {},
   "source": [
    "## `meter_violation`\n",
    "### Whether the citation is tied directly to a meter violation (0=False or unknown/ 1=true)\n"
   ]
  },
  {
   "cell_type": "code",
   "execution_count": 37,
   "metadata": {},
   "outputs": [
    {
     "data": {
      "text/plain": [
       "0    131213\n",
       "1     73971\n",
       "Name: meter_violation, dtype: int64"
      ]
     },
     "execution_count": 37,
     "metadata": {},
     "output_type": "execute_result"
    }
   ],
   "source": [
    "df.meter_violation.value_counts(dropna=False)"
   ]
  },
  {
   "cell_type": "markdown",
   "metadata": {},
   "source": [
    "## `meter_number`\n",
    "### The meter number associated with the violation\n"
   ]
  },
  {
   "cell_type": "code",
   "execution_count": 38,
   "metadata": {},
   "outputs": [
    {
     "data": {
      "text/plain": [
       "NaN        137715\n",
       "PRA900        635\n",
       "TEX1101       616\n",
       "FRA903        512\n",
       "MCL14         497\n",
       "MCL11         493\n",
       "FRA901        460\n",
       "SIGN          448\n",
       "MCL10         439\n",
       "MCL09         428\n",
       "Name: meter_number, dtype: int64"
      ]
     },
     "execution_count": 38,
     "metadata": {},
     "output_type": "execute_result"
    }
   ],
   "source": [
    "df.meter_number.value_counts(dropna=False)[:10]"
   ]
  },
  {
   "cell_type": "markdown",
   "metadata": {},
   "source": [
    "## `citation_description_code`\n",
    "### The code for why the citation was issued\n"
   ]
  },
  {
   "cell_type": "code",
   "execution_count": 39,
   "metadata": {},
   "outputs": [
    {
     "data": {
      "text/plain": [
       "PK-01     52570\n",
       "PK-16     40527\n",
       "PK-19     10055\n",
       "PK-21      9364\n",
       "PK-17      8523\n",
       "PK-20      8382\n",
       "APK-01     7260\n",
       "APK-16     6955\n",
       "PK-02      6685\n",
       "PK-13      6317\n",
       "Name: citation_description_code, dtype: int64"
      ]
     },
     "execution_count": 39,
     "metadata": {},
     "output_type": "execute_result"
    }
   ],
   "source": [
    "df.citation_description_code.value_counts(dropna=False)[:10]"
   ]
  },
  {
   "cell_type": "markdown",
   "metadata": {},
   "source": [
    "## `citation_description`\n",
    "### Description of why the citation was issued\n"
   ]
  },
  {
   "cell_type": "code",
   "execution_count": 40,
   "metadata": {},
   "outputs": [
    {
     "data": {
      "text/plain": [
       "PK01- Parking meter expired         52570\n",
       "PK16- Parked in a tow away zone     40527\n",
       "PK19 - Other parking violation      10055\n",
       "PK21- Parked in handicapped zone     9364\n",
       "PK17- No parking anytime             8523\n",
       "PK20-More than 18 in. right curb     8382\n",
       "APK-01 - Parking Meter Expired       7260\n",
       "APK-16 - Parked in tow-away zone     6955\n",
       "PK02- Overtime parking               6685\n",
       "PK13- Blocking/parked on sidewk      6317\n",
       "Name: citation_description, dtype: int64"
      ]
     },
     "execution_count": 40,
     "metadata": {},
     "output_type": "execute_result"
    }
   ],
   "source": [
    "df.citation_description.value_counts(dropna=False)[:10]"
   ]
  },
  {
   "cell_type": "markdown",
   "metadata": {},
   "source": [
    "## `vic_legal_description`\n",
    "### Legal description of why the citation was issued\n"
   ]
  },
  {
   "cell_type": "code",
   "execution_count": 41,
   "metadata": {},
   "outputs": [
    {
     "data": {
      "text/plain": [
       "Parking meter expired               52570\n",
       "Parked in a tow away zone           40527\n",
       "Other parking violation             10055\n",
       "Parked in a handicapped zone         9364\n",
       "No parking anytime                   8523\n",
       "Parked more than 18in from right     8382\n",
       "Parking Meter Expired                7260\n",
       "Parked in a tow-away zone            6955\n",
       "Parked non-commercial vehicle in     6718\n",
       "Overtime parking                     6685\n",
       "Name: vic_legal_description, dtype: int64"
      ]
     },
     "execution_count": 41,
     "metadata": {},
     "output_type": "execute_result"
    }
   ],
   "source": [
    "df.vic_legal_description.value_counts(dropna=False)[:10]"
   ]
  },
  {
   "cell_type": "markdown",
   "metadata": {},
   "source": [
    "## `con_is_writeoff`\n",
    "### Was the citation written off (0=false/1=true)\n"
   ]
  },
  {
   "cell_type": "code",
   "execution_count": 42,
   "metadata": {},
   "outputs": [
    {
     "data": {
      "text/plain": [
       "0    205184\n",
       "Name: con_is_writeoff, dtype: int64"
      ]
     },
     "execution_count": 42,
     "metadata": {},
     "output_type": "execute_result"
    }
   ],
   "source": [
    "df.con_is_writeoff.value_counts(dropna=False)"
   ]
  },
  {
   "cell_type": "markdown",
   "metadata": {},
   "source": [
    "## `con_is_warning `\n",
    "### Is the citation a warning rather than a fine (0=false/1=true)\n"
   ]
  },
  {
   "cell_type": "code",
   "execution_count": 43,
   "metadata": {},
   "outputs": [
    {
     "data": {
      "text/plain": [
       "0    204258\n",
       "1       926\n",
       "Name: con_is_warning, dtype: int64"
      ]
     },
     "execution_count": 43,
     "metadata": {},
     "output_type": "execute_result"
    }
   ],
   "source": [
    "df.con_is_warning.value_counts(dropna=False)"
   ]
  },
  {
   "cell_type": "markdown",
   "metadata": {},
   "source": [
    "## `con_is_void`\n",
    "### Has the citation been voided (0=false/1=true)\n"
   ]
  },
  {
   "cell_type": "code",
   "execution_count": 44,
   "metadata": {},
   "outputs": [
    {
     "data": {
      "text/plain": [
       "0    204948\n",
       "1       236\n",
       "Name: con_is_void, dtype: int64"
      ]
     },
     "execution_count": 44,
     "metadata": {},
     "output_type": "execute_result"
    }
   ],
   "source": [
    "df.con_is_void.value_counts(dropna=False)"
   ]
  },
  {
   "cell_type": "markdown",
   "metadata": {},
   "source": [
    "## `con_is_under_appeal`\n",
    "### Is the citation under appeal (0=false/1=true)\n"
   ]
  },
  {
   "cell_type": "code",
   "execution_count": 45,
   "metadata": {},
   "outputs": [
    {
     "data": {
      "text/plain": [
       "0    204721\n",
       "1       463\n",
       "Name: con_is_under_appeal, dtype: int64"
      ]
     },
     "execution_count": 45,
     "metadata": {},
     "output_type": "execute_result"
    }
   ],
   "source": [
    "df.con_is_under_appeal.value_counts(dropna=False)"
   ]
  },
  {
   "cell_type": "markdown",
   "metadata": {},
   "source": [
    "## `con_is_uncollectable`\n",
    "### Is the citation uncollectable (0=false/1=true)\n"
   ]
  },
  {
   "cell_type": "code",
   "execution_count": 46,
   "metadata": {},
   "outputs": [
    {
     "data": {
      "text/plain": [
       "0    205184\n",
       "Name: con_is_uncollectable, dtype: int64"
      ]
     },
     "execution_count": 46,
     "metadata": {},
     "output_type": "execute_result"
    }
   ],
   "source": [
    "df.con_is_uncollectable.value_counts(dropna=False)"
   ]
  },
  {
   "cell_type": "markdown",
   "metadata": {},
   "source": [
    "## `con_is_special_status`\n",
    "### Does the citation has a special status (0=false/1=true)\n"
   ]
  },
  {
   "cell_type": "code",
   "execution_count": 47,
   "metadata": {},
   "outputs": [
    {
     "data": {
      "text/plain": [
       "0    205184\n",
       "Name: con_is_special_status, dtype: int64"
      ]
     },
     "execution_count": 47,
     "metadata": {},
     "output_type": "execute_result"
    }
   ],
   "source": [
    "df.con_is_special_status.value_counts(dropna=False)"
   ]
  },
  {
   "cell_type": "markdown",
   "metadata": {},
   "source": [
    "## `con_is_source_manual`\n",
    "### Was the citation manually entered into the parking management system (0=false/1=true). This usually occurs for older tickets that were issued prior to the implementation of T2 when a customer comes in voluntarily to pay. This can also happen when a volunteer issues a handicap parking citation or a handheld device is broken.\n"
   ]
  },
  {
   "cell_type": "code",
   "execution_count": 48,
   "metadata": {},
   "outputs": [
    {
     "data": {
      "text/plain": [
       "0    162145\n",
       "1     43039\n",
       "Name: con_is_source_manual, dtype: int64"
      ]
     },
     "execution_count": 48,
     "metadata": {},
     "output_type": "execute_result"
    }
   ],
   "source": [
    "df.con_is_source_manual.value_counts(dropna=False)"
   ]
  },
  {
   "cell_type": "markdown",
   "metadata": {},
   "source": [
    "## `con_is_preentered `"
   ]
  },
  {
   "cell_type": "code",
   "execution_count": 49,
   "metadata": {},
   "outputs": [
    {
     "data": {
      "text/plain": [
       "0    202995\n",
       "1      2189\n",
       "Name: con_is_preentered, dtype: int64"
      ]
     },
     "execution_count": 49,
     "metadata": {},
     "output_type": "execute_result"
    }
   ],
   "source": [
    "df.con_is_preentered.value_counts(dropna=False)"
   ]
  },
  {
   "cell_type": "markdown",
   "metadata": {},
   "source": [
    "## `con_is_on_admin_hold`\n",
    "### Is the citation on administrative hold (0=false/1=true)\n"
   ]
  },
  {
   "cell_type": "code",
   "execution_count": 50,
   "metadata": {},
   "outputs": [
    {
     "data": {
      "text/plain": [
       "0    205184\n",
       "Name: con_is_on_admin_hold, dtype: int64"
      ]
     },
     "execution_count": 50,
     "metadata": {},
     "output_type": "execute_result"
    }
   ],
   "source": [
    "df.con_is_on_admin_hold.value_counts(dropna=False)"
   ]
  },
  {
   "cell_type": "markdown",
   "metadata": {},
   "source": [
    "## `con_is_no_contest`"
   ]
  },
  {
   "cell_type": "code",
   "execution_count": 76,
   "metadata": {},
   "outputs": [
    {
     "data": {
      "text/plain": [
       "0    205184\n",
       "Name: con_is_no_contest, dtype: int64"
      ]
     },
     "execution_count": 76,
     "metadata": {},
     "output_type": "execute_result"
    }
   ],
   "source": [
    "df.con_is_no_contest.value_counts(dropna=False)"
   ]
  },
  {
   "cell_type": "markdown",
   "metadata": {},
   "source": [
    "## `initial_citation_amount `\n",
    "### The initial amount (or face value) of the citation when it was issued\n"
   ]
  },
  {
   "cell_type": "code",
   "execution_count": 51,
   "metadata": {},
   "outputs": [
    {
     "data": {
      "text/plain": [
       "25.00     66842\n",
       "35.00     41110\n",
       "65.00     40527\n",
       "40.00     10953\n",
       "205.00     9364\n",
       "30.00      8662\n",
       "70.00      6955\n",
       "250.00     5181\n",
       "100.00     4617\n",
       "0.00       2101\n",
       "300.00     2010\n",
       "45.00      1663\n",
       "500.00     1406\n",
       "55.00      1405\n",
       "255.00      726\n",
       "50.00       580\n",
       "105.00      506\n",
       "305.00      276\n",
       "125.00      179\n",
       "60.00       110\n",
       "130.00        9\n",
       "1.00          1\n",
       "154.84        1\n",
       "Name: initial_citation_amount, dtype: int64"
      ]
     },
     "execution_count": 51,
     "metadata": {},
     "output_type": "execute_result"
    }
   ],
   "source": [
    "df.initial_citation_amount.value_counts(dropna=False)"
   ]
  },
  {
   "cell_type": "markdown",
   "metadata": {},
   "source": [
    "## `amount_outstanding`\n",
    "### The amount currently due, including any delinquent collection fees imposed\n"
   ]
  },
  {
   "cell_type": "code",
   "execution_count": 52,
   "metadata": {},
   "outputs": [
    {
     "data": {
      "text/plain": [
       " 0.00      158966\n",
       " 65.00      15731\n",
       " 78.00       8880\n",
       " 130.00      7809\n",
       " 533.00      2016\n",
       " 71.50       1996\n",
       " 455.00      1518\n",
       " 84.50       1348\n",
       " 136.50      1245\n",
       " 195.00      1185\n",
       " 91.00       1025\n",
       " 97.50        893\n",
       " 32.50        403\n",
       " 780.00       301\n",
       " 461.50       202\n",
       "-25.00        163\n",
       " 45.50        161\n",
       " 201.50       120\n",
       " 15.00         81\n",
       " 520.00        81\n",
       " 18.00         73\n",
       " 227.50        50\n",
       " 104.00        50\n",
       " 30.00         48\n",
       " 52.00         31\n",
       "-65.00         30\n",
       " 39.00         30\n",
       "-30.00         29\n",
       "-35.00         26\n",
       " 266.50        25\n",
       "            ...  \n",
       " 513.00         1\n",
       " 408.00         1\n",
       " 292.50         1\n",
       " 415.00         1\n",
       " 129.00         1\n",
       " 230.00         1\n",
       " 270.00         1\n",
       " 133.25         1\n",
       " 145.50         1\n",
       "-10.50          1\n",
       "-255.00         1\n",
       " 131.50         1\n",
       " 51.50          1\n",
       " 275.00         1\n",
       " 273.00         1\n",
       " 35.75          1\n",
       " 34.00          1\n",
       " 134.50         1\n",
       " 96.20          1\n",
       " 90.57          1\n",
       " 100.75         1\n",
       " 29.50          1\n",
       " 555.00         1\n",
       " 197.50         1\n",
       " 101.50         1\n",
       " 133.00         1\n",
       " 450.45         1\n",
       " 253.00         1\n",
       "-10.00          1\n",
       " 10.00          1\n",
       "Name: amount_outstanding, Length: 164, dtype: int64"
      ]
     },
     "execution_count": 52,
     "metadata": {},
     "output_type": "execute_result"
    }
   ],
   "source": [
    "df.amount_outstanding.value_counts(dropna=False)[:10]"
   ]
  },
  {
   "cell_type": "markdown",
   "metadata": {},
   "source": [
    "## `citation_officer`\n",
    "### Issuing Officer\n"
   ]
  },
  {
   "cell_type": "code",
   "execution_count": 53,
   "metadata": {},
   "outputs": [
    {
     "data": {
      "text/plain": [
       "KIBE, J                  13916\n",
       "KUNJACHEN,GITHU SHINE     9743\n",
       "SANCHEZ, DAVID            8931\n",
       "JACKSON, TERRANCE         8668\n",
       "VALDEZ, OLGA              8062\n",
       "COLLINS, TASHA            7921\n",
       "FREEMAN, VICTORIA         7346\n",
       "EVANS, AMOS               6851\n",
       "JONES, ANDRE              6776\n",
       "WYATT, KEATON             6545\n",
       "Name: citation_officer, dtype: int64"
      ]
     },
     "execution_count": 53,
     "metadata": {},
     "output_type": "execute_result"
    }
   ],
   "source": [
    "df.citation_officer.value_counts(dropna=False)[:10]"
   ]
  },
  {
   "cell_type": "markdown",
   "metadata": {},
   "source": [
    "## `citation_officer_uid `\n",
    "### Issue Officer's unique identifier in the system\n"
   ]
  },
  {
   "cell_type": "code",
   "execution_count": 54,
   "metadata": {},
   "outputs": [
    {
     "data": {
      "text/plain": [
       "2055    13916\n",
       "2669     9743\n",
       "2222     8931\n",
       "2187     8668\n",
       "2125     8062\n",
       "2185     7921\n",
       "2195     7346\n",
       "2624     6851\n",
       "2038     6776\n",
       "2049     6545\n",
       "Name: citation_officer_uid, dtype: int64"
      ]
     },
     "execution_count": 54,
     "metadata": {},
     "output_type": "execute_result"
    }
   ],
   "source": [
    "df.citation_officer_uid.value_counts(dropna=False)[:10]"
   ]
  },
  {
   "cell_type": "code",
   "execution_count": null,
   "metadata": {},
   "outputs": [],
   "source": []
  },
  {
   "cell_type": "markdown",
   "metadata": {},
   "source": [
    "## `vehicle_make`"
   ]
  },
  {
   "cell_type": "code",
   "execution_count": 87,
   "metadata": {},
   "outputs": [
    {
     "data": {
      "text/plain": [
       "Chevrolet         27487\n",
       "Ford              27296\n",
       "Toyota            25523\n",
       "Honda             17291\n",
       "Nissan            12802\n",
       "Dodge              9811\n",
       "BMW                5630\n",
       "Lexus              5408\n",
       "General Motors     4770\n",
       "Jeep               4658\n",
       "Name: vehicle_make, dtype: int64"
      ]
     },
     "execution_count": 87,
     "metadata": {},
     "output_type": "execute_result"
    }
   ],
   "source": [
    "df.vehicle_make.value_counts(dropna=False)[:10]"
   ]
  },
  {
   "cell_type": "code",
   "execution_count": null,
   "metadata": {},
   "outputs": [],
   "source": []
  },
  {
   "cell_type": "markdown",
   "metadata": {},
   "source": [
    "## `vehicle_year`"
   ]
  },
  {
   "cell_type": "code",
   "execution_count": 91,
   "metadata": {},
   "outputs": [
    {
     "data": {
      "text/plain": [
       "NaN        49364\n",
       " 2007.0    15006\n",
       " 2006.0    13636\n",
       " 2008.0    13308\n",
       " 2005.0    11886\n",
       " 2003.0    10711\n",
       " 2002.0    10622\n",
       " 2004.0    10542\n",
       " 2001.0     9625\n",
       " 2010.0     9218\n",
       " 2009.0     8723\n",
       " 2000.0     8365\n",
       " 1999.0     6835\n",
       " 1998.0     5289\n",
       " 1997.0     4335\n",
       " 1996.0     3173\n",
       " 2011.0     2982\n",
       " 1995.0     2817\n",
       " 1994.0     2112\n",
       " 1993.0     1529\n",
       " 1992.0     1059\n",
       " 1991.0      862\n",
       " 1990.0      707\n",
       " 1989.0      477\n",
       " 1988.0      462\n",
       " 1987.0      249\n",
       " 1986.0      221\n",
       " 1985.0      143\n",
       " 1984.0      131\n",
       " 1983.0       96\n",
       "           ...  \n",
       " 1969.0       24\n",
       " 1976.0       22\n",
       " 1975.0       22\n",
       " 1970.0       21\n",
       " 1973.0       21\n",
       " 2013.0       20\n",
       " 1968.0       20\n",
       " 1974.0       19\n",
       " 1972.0       19\n",
       " 1966.0       19\n",
       " 1971.0       12\n",
       " 2014.0       11\n",
       " 2015.0        7\n",
       " 1964.0        6\n",
       " 1957.0        5\n",
       " 1959.0        4\n",
       " 1965.0        4\n",
       " 1961.0        4\n",
       " 1962.0        4\n",
       " 1963.0        3\n",
       " 0.0           3\n",
       " 1960.0        2\n",
       " 1951.0        2\n",
       " 1955.0        2\n",
       " 1956.0        1\n",
       " 1953.0        1\n",
       " 1949.0        1\n",
       " 1930.0        1\n",
       " 1929.0        1\n",
       " 1923.0        1\n",
       "Name: vehicle_year, Length: 68, dtype: int64"
      ]
     },
     "execution_count": 91,
     "metadata": {},
     "output_type": "execute_result"
    }
   ],
   "source": [
    "df.vehicle_year.value_counts(dropna=False)"
   ]
  },
  {
   "cell_type": "code",
   "execution_count": null,
   "metadata": {},
   "outputs": [],
   "source": []
  },
  {
   "cell_type": "markdown",
   "metadata": {},
   "source": [
    "## `vehicle_style`"
   ]
  },
  {
   "cell_type": "code",
   "execution_count": 92,
   "metadata": {},
   "outputs": [
    {
     "data": {
      "text/plain": [
       "Four Door             95795\n",
       "                      54490\n",
       "Truck                 24865\n",
       "Two Door              16257\n",
       "Sports Utility Veh     6018\n",
       "Van                    5993\n",
       "Station Wagon           229\n",
       "Hatchback               210\n",
       "TRAC                    196\n",
       "4X4                     159\n",
       "Name: vehicle_style, dtype: int64"
      ]
     },
     "execution_count": 92,
     "metadata": {},
     "output_type": "execute_result"
    }
   ],
   "source": [
    "df.vehicle_style.value_counts(dropna=False)[:10]"
   ]
  },
  {
   "cell_type": "code",
   "execution_count": null,
   "metadata": {},
   "outputs": [],
   "source": []
  },
  {
   "cell_type": "markdown",
   "metadata": {},
   "source": [
    "## `latitude `\n",
    "### The latitude reported by the handheld device. Handheld devices started reporting issuing location in mid-2014 but sometimes the coordinators are not captured\n"
   ]
  },
  {
   "cell_type": "code",
   "execution_count": 94,
   "metadata": {},
   "outputs": [
    {
     "data": {
      "text/plain": [
       "NaN           205183\n",
       " 29.751597         1\n",
       "Name: latitude, dtype: int64"
      ]
     },
     "execution_count": 94,
     "metadata": {},
     "output_type": "execute_result"
    }
   ],
   "source": [
    "df.latitude.value_counts(dropna=False)"
   ]
  },
  {
   "cell_type": "code",
   "execution_count": null,
   "metadata": {},
   "outputs": [],
   "source": []
  },
  {
   "cell_type": "markdown",
   "metadata": {},
   "source": [
    "## `longitude`\n",
    "### The longitude reported by the handheld device. Handheld devices started reporting issuing location in mid-2014 but sometimes the coordinators are not captured\n"
   ]
  },
  {
   "cell_type": "code",
   "execution_count": 96,
   "metadata": {},
   "outputs": [
    {
     "data": {
      "text/plain": [
       "NaN           205183\n",
       "-95.354178         1\n",
       "Name: longitude, dtype: int64"
      ]
     },
     "execution_count": 96,
     "metadata": {},
     "output_type": "execute_result"
    }
   ],
   "source": [
    "df.longitude.value_counts(dropna=False)"
   ]
  },
  {
   "cell_type": "code",
   "execution_count": 97,
   "metadata": {},
   "outputs": [
    {
     "name": "stdout",
     "output_type": "stream",
     "text": [
      "<class 'pandas.core.frame.DataFrame'>\n",
      "RangeIndex: 205184 entries, 0 to 205183\n",
      "Data columns (total 37 columns):\n",
      "con_uid                      205184 non-null int64\n",
      "entity_uid                   168180 non-null float64\n",
      "vehicle_plate_anon           205184 non-null int64\n",
      "invoice_number               205184 non-null object\n",
      "invoice_date                 205184 non-null datetime64[ns]\n",
      "invoice_due_date             205184 non-null datetime64[ns]\n",
      "entity_type                  168180 non-null object\n",
      "billing_state_abbrev         168075 non-null object\n",
      "billing_postal_code          168023 non-null object\n",
      "event_block_number           202254 non-null object\n",
      "event_street                 205183 non-null object\n",
      "event_date                   205184 non-null datetime64[ns]\n",
      "citation_status              205184 non-null object\n",
      "meter_violation              205184 non-null int64\n",
      "meter_number                 67469 non-null object\n",
      "citation_description_code    205184 non-null object\n",
      "citation_description         205184 non-null object\n",
      "vic_legal_description        203134 non-null object\n",
      "con_is_writeoff              205184 non-null int64\n",
      "con_is_warning               205184 non-null int64\n",
      "con_is_void                  205184 non-null int64\n",
      "con_is_under_appeal          205184 non-null int64\n",
      "con_is_uncollectable         205184 non-null int64\n",
      "con_is_special_status        205184 non-null int64\n",
      "con_is_source_manual         205184 non-null int64\n",
      "con_is_preentered            205184 non-null int64\n",
      "con_is_on_admin_hold         205184 non-null int64\n",
      "con_is_no_contest            205184 non-null int64\n",
      "initial_citation_amount      205184 non-null float64\n",
      "amount_outstanding           205184 non-null float64\n",
      "citation_officer             200129 non-null object\n",
      "citation_officer_uid         205184 non-null int64\n",
      "vehicle_make                 205184 non-null object\n",
      "vehicle_year                 155820 non-null float64\n",
      "vehicle_style                205184 non-null object\n",
      "latitude                     1 non-null float64\n",
      "longitude                    1 non-null float64\n",
      "dtypes: datetime64[ns](3), float64(6), int64(14), object(14)\n",
      "memory usage: 57.9+ MB\n"
     ]
    }
   ],
   "source": [
    "df.info()"
   ]
  },
  {
   "cell_type": "markdown",
   "metadata": {},
   "source": []
  },
  {
   "cell_type": "code",
   "execution_count": 55,
   "metadata": {},
   "outputs": [
    {
     "data": {
      "text/html": [
       "<div>\n",
       "<style scoped>\n",
       "    .dataframe tbody tr th:only-of-type {\n",
       "        vertical-align: middle;\n",
       "    }\n",
       "\n",
       "    .dataframe tbody tr th {\n",
       "        vertical-align: top;\n",
       "    }\n",
       "\n",
       "    .dataframe thead th {\n",
       "        text-align: right;\n",
       "    }\n",
       "</style>\n",
       "<table border=\"1\" class=\"dataframe\">\n",
       "  <thead>\n",
       "    <tr style=\"text-align: right;\">\n",
       "      <th></th>\n",
       "      <th>con_uid</th>\n",
       "      <th>entity_uid</th>\n",
       "      <th>vehicle_plate_anon</th>\n",
       "      <th>invoice_number</th>\n",
       "      <th>invoice_date</th>\n",
       "      <th>invoice_due_date</th>\n",
       "      <th>entity_type</th>\n",
       "      <th>billing_state_abbrev</th>\n",
       "      <th>billing_postal_code</th>\n",
       "      <th>event_block_number</th>\n",
       "      <th>...</th>\n",
       "      <th>con_is_no_contest</th>\n",
       "      <th>initial_citation_amount</th>\n",
       "      <th>amount_outstanding</th>\n",
       "      <th>citation_officer</th>\n",
       "      <th>citation_officer_uid</th>\n",
       "      <th>vehicle_make</th>\n",
       "      <th>vehicle_year</th>\n",
       "      <th>vehicle_style</th>\n",
       "      <th>latitude</th>\n",
       "      <th>longitude</th>\n",
       "    </tr>\n",
       "  </thead>\n",
       "  <tbody>\n",
       "    <tr>\n",
       "      <th>0</th>\n",
       "      <td>612399</td>\n",
       "      <td>441213.0</td>\n",
       "      <td>1051794</td>\n",
       "      <td>V10117186</td>\n",
       "      <td>2011-06-16 14:30:00</td>\n",
       "      <td>2011-07-16 14:30:00</td>\n",
       "      <td>Individual</td>\n",
       "      <td>TX</td>\n",
       "      <td>77078</td>\n",
       "      <td>7426</td>\n",
       "      <td>...</td>\n",
       "      <td>0</td>\n",
       "      <td>205.0</td>\n",
       "      <td>0.0</td>\n",
       "      <td>RECTOR, DAVID</td>\n",
       "      <td>2148</td>\n",
       "      <td>Chrysler</td>\n",
       "      <td>2008.0</td>\n",
       "      <td></td>\n",
       "      <td>NaN</td>\n",
       "      <td>NaN</td>\n",
       "    </tr>\n",
       "    <tr>\n",
       "      <th>1</th>\n",
       "      <td>612401</td>\n",
       "      <td>441214.0</td>\n",
       "      <td>612548</td>\n",
       "      <td>V10367917</td>\n",
       "      <td>2011-06-14 12:20:00</td>\n",
       "      <td>2011-07-14 12:20:00</td>\n",
       "      <td>Individual</td>\n",
       "      <td>TX</td>\n",
       "      <td>77086</td>\n",
       "      <td>2300</td>\n",
       "      <td>...</td>\n",
       "      <td>0</td>\n",
       "      <td>205.0</td>\n",
       "      <td>533.0</td>\n",
       "      <td>WORM, JOHN</td>\n",
       "      <td>2266</td>\n",
       "      <td>Cadillac</td>\n",
       "      <td>1997.0</td>\n",
       "      <td></td>\n",
       "      <td>NaN</td>\n",
       "      <td>NaN</td>\n",
       "    </tr>\n",
       "    <tr>\n",
       "      <th>2</th>\n",
       "      <td>612402</td>\n",
       "      <td>440150.0</td>\n",
       "      <td>225966</td>\n",
       "      <td>V10367926</td>\n",
       "      <td>2011-06-17 16:13:00</td>\n",
       "      <td>2011-07-17 16:13:00</td>\n",
       "      <td>Individual</td>\n",
       "      <td>TX</td>\n",
       "      <td>77080</td>\n",
       "      <td>2300</td>\n",
       "      <td>...</td>\n",
       "      <td>0</td>\n",
       "      <td>205.0</td>\n",
       "      <td>0.0</td>\n",
       "      <td>WORM, JOHN</td>\n",
       "      <td>2266</td>\n",
       "      <td>Mercury</td>\n",
       "      <td>NaN</td>\n",
       "      <td></td>\n",
       "      <td>NaN</td>\n",
       "      <td>NaN</td>\n",
       "    </tr>\n",
       "    <tr>\n",
       "      <th>3</th>\n",
       "      <td>612470</td>\n",
       "      <td>441216.0</td>\n",
       "      <td>669745</td>\n",
       "      <td>V10272997</td>\n",
       "      <td>2011-06-05 09:49:00</td>\n",
       "      <td>2011-07-05 09:49:00</td>\n",
       "      <td>Individual</td>\n",
       "      <td>TX</td>\n",
       "      <td>77078</td>\n",
       "      <td>2955</td>\n",
       "      <td>...</td>\n",
       "      <td>0</td>\n",
       "      <td>205.0</td>\n",
       "      <td>0.0</td>\n",
       "      <td>KIZER, JEREMY</td>\n",
       "      <td>3785</td>\n",
       "      <td>Ford</td>\n",
       "      <td>1998.0</td>\n",
       "      <td></td>\n",
       "      <td>NaN</td>\n",
       "      <td>NaN</td>\n",
       "    </tr>\n",
       "    <tr>\n",
       "      <th>4</th>\n",
       "      <td>612513</td>\n",
       "      <td>434221.0</td>\n",
       "      <td>1010459</td>\n",
       "      <td>V20016841</td>\n",
       "      <td>2011-06-07 11:03:00</td>\n",
       "      <td>2011-07-07 11:03:00</td>\n",
       "      <td>Individual</td>\n",
       "      <td>TX</td>\n",
       "      <td>77007</td>\n",
       "      <td>4400</td>\n",
       "      <td>...</td>\n",
       "      <td>0</td>\n",
       "      <td>500.0</td>\n",
       "      <td>780.0</td>\n",
       "      <td>SMITH, ROBERT</td>\n",
       "      <td>2155</td>\n",
       "      <td>Ford</td>\n",
       "      <td>2003.0</td>\n",
       "      <td>Sports Utility Veh</td>\n",
       "      <td>NaN</td>\n",
       "      <td>NaN</td>\n",
       "    </tr>\n",
       "  </tbody>\n",
       "</table>\n",
       "<p>5 rows × 37 columns</p>\n",
       "</div>"
      ],
      "text/plain": [
       "   con_uid  entity_uid  vehicle_plate_anon invoice_number        invoice_date  \\\n",
       "0   612399    441213.0             1051794      V10117186 2011-06-16 14:30:00   \n",
       "1   612401    441214.0              612548      V10367917 2011-06-14 12:20:00   \n",
       "2   612402    440150.0              225966      V10367926 2011-06-17 16:13:00   \n",
       "3   612470    441216.0              669745      V10272997 2011-06-05 09:49:00   \n",
       "4   612513    434221.0             1010459      V20016841 2011-06-07 11:03:00   \n",
       "\n",
       "     invoice_due_date entity_type billing_state_abbrev billing_postal_code  \\\n",
       "0 2011-07-16 14:30:00  Individual                   TX               77078   \n",
       "1 2011-07-14 12:20:00  Individual                   TX               77086   \n",
       "2 2011-07-17 16:13:00  Individual                   TX               77080   \n",
       "3 2011-07-05 09:49:00  Individual                   TX               77078   \n",
       "4 2011-07-07 11:03:00  Individual                   TX               77007   \n",
       "\n",
       "  event_block_number    ...     con_is_no_contest initial_citation_amount  \\\n",
       "0               7426    ...                     0                   205.0   \n",
       "1               2300    ...                     0                   205.0   \n",
       "2               2300    ...                     0                   205.0   \n",
       "3               2955    ...                     0                   205.0   \n",
       "4               4400    ...                     0                   500.0   \n",
       "\n",
       "  amount_outstanding  citation_officer citation_officer_uid vehicle_make  \\\n",
       "0                0.0     RECTOR, DAVID                 2148     Chrysler   \n",
       "1              533.0        WORM, JOHN                 2266     Cadillac   \n",
       "2                0.0        WORM, JOHN                 2266      Mercury   \n",
       "3                0.0     KIZER, JEREMY                 3785         Ford   \n",
       "4              780.0     SMITH, ROBERT                 2155         Ford   \n",
       "\n",
       "  vehicle_year       vehicle_style  latitude  longitude  \n",
       "0       2008.0                           NaN        NaN  \n",
       "1       1997.0                           NaN        NaN  \n",
       "2          NaN                           NaN        NaN  \n",
       "3       1998.0                           NaN        NaN  \n",
       "4       2003.0  Sports Utility Veh       NaN        NaN  \n",
       "\n",
       "[5 rows x 37 columns]"
      ]
     },
     "execution_count": 55,
     "metadata": {},
     "output_type": "execute_result"
    }
   ],
   "source": [
    "df.head()"
   ]
  },
  {
   "cell_type": "code",
   "execution_count": null,
   "metadata": {},
   "outputs": [],
   "source": []
  },
  {
   "cell_type": "markdown",
   "metadata": {},
   "source": [
    "## Drop columns"
   ]
  },
  {
   "cell_type": "code",
   "execution_count": 56,
   "metadata": {},
   "outputs": [
    {
     "data": {
      "text/plain": [
       "['con_uid',\n",
       " 'entity_uid',\n",
       " 'vehicle_plate_anon',\n",
       " 'invoice_number',\n",
       " 'invoice_date',\n",
       " 'invoice_due_date',\n",
       " 'entity_type',\n",
       " 'billing_state_abbrev',\n",
       " 'billing_postal_code',\n",
       " 'event_block_number',\n",
       " 'event_street',\n",
       " 'event_date',\n",
       " 'citation_status',\n",
       " 'meter_violation',\n",
       " 'meter_number',\n",
       " 'citation_description_code',\n",
       " 'citation_description',\n",
       " 'vic_legal_description',\n",
       " 'con_is_writeoff',\n",
       " 'con_is_warning',\n",
       " 'con_is_void',\n",
       " 'con_is_under_appeal',\n",
       " 'con_is_uncollectable',\n",
       " 'con_is_special_status',\n",
       " 'con_is_source_manual',\n",
       " 'con_is_preentered',\n",
       " 'con_is_on_admin_hold',\n",
       " 'con_is_no_contest',\n",
       " 'initial_citation_amount',\n",
       " 'amount_outstanding',\n",
       " 'citation_officer',\n",
       " 'citation_officer_uid',\n",
       " 'vehicle_make',\n",
       " 'vehicle_year',\n",
       " 'vehicle_style',\n",
       " 'latitude',\n",
       " 'longitude']"
      ]
     },
     "execution_count": 56,
     "metadata": {},
     "output_type": "execute_result"
    }
   ],
   "source": [
    "list(df.columns)"
   ]
  },
  {
   "cell_type": "code",
   "execution_count": 57,
   "metadata": {},
   "outputs": [],
   "source": [
    "df = df[['con_uid',\n",
    " 'entity_uid',\n",
    " 'vehicle_plate_anon',\n",
    " 'invoice_number',\n",
    " 'entity_type',\n",
    " 'event_block_number',\n",
    " 'event_street',\n",
    " 'event_date',\n",
    " 'citation_status',\n",
    " 'meter_violation',\n",
    " 'meter_number',\n",
    " 'citation_description_code',\n",
    " 'vic_legal_description',\n",
    " 'initial_citation_amount',\n",
    " 'amount_outstanding',\n",
    " 'citation_officer',\n",
    " 'citation_officer_uid',\n",
    " 'vehicle_make',\n",
    " 'vehicle_year']]"
   ]
  },
  {
   "cell_type": "code",
   "execution_count": 124,
   "metadata": {},
   "outputs": [],
   "source": [
    "# meter = df[df.meter_violation == 1]\n",
    "# other = df[df.meter_violation == 0]"
   ]
  },
  {
   "cell_type": "markdown",
   "metadata": {},
   "source": [
    "### Meter tickets"
   ]
  },
  {
   "cell_type": "code",
   "execution_count": 127,
   "metadata": {},
   "outputs": [
    {
     "data": {
      "text/html": [
       "<div>\n",
       "<style scoped>\n",
       "    .dataframe tbody tr th:only-of-type {\n",
       "        vertical-align: middle;\n",
       "    }\n",
       "\n",
       "    .dataframe tbody tr th {\n",
       "        vertical-align: top;\n",
       "    }\n",
       "\n",
       "    .dataframe thead th {\n",
       "        text-align: right;\n",
       "    }\n",
       "</style>\n",
       "<table border=\"1\" class=\"dataframe\">\n",
       "  <thead>\n",
       "    <tr style=\"text-align: right;\">\n",
       "      <th></th>\n",
       "      <th>con_uid</th>\n",
       "      <th>entity_uid</th>\n",
       "      <th>vehicle_plate_anon</th>\n",
       "      <th>invoice_number</th>\n",
       "      <th>entity_type</th>\n",
       "      <th>event_block_number</th>\n",
       "      <th>event_street</th>\n",
       "      <th>event_date</th>\n",
       "      <th>citation_status</th>\n",
       "      <th>meter_violation</th>\n",
       "      <th>meter_number</th>\n",
       "      <th>citation_description_code</th>\n",
       "      <th>vic_legal_description</th>\n",
       "      <th>initial_citation_amount</th>\n",
       "      <th>amount_outstanding</th>\n",
       "      <th>citation_officer</th>\n",
       "      <th>citation_officer_uid</th>\n",
       "      <th>vehicle_make</th>\n",
       "      <th>vehicle_year</th>\n",
       "    </tr>\n",
       "  </thead>\n",
       "  <tbody>\n",
       "    <tr>\n",
       "      <th>14</th>\n",
       "      <td>1080091</td>\n",
       "      <td>NaN</td>\n",
       "      <td>1044199</td>\n",
       "      <td>HX25001706</td>\n",
       "      <td>NaN</td>\n",
       "      <td>1600</td>\n",
       "      <td>TEXAS ST</td>\n",
       "      <td>2010-12-29 10:19:00</td>\n",
       "      <td>Zero Balance</td>\n",
       "      <td>1</td>\n",
       "      <td>NaN</td>\n",
       "      <td>PK-01</td>\n",
       "      <td>Parking meter expired</td>\n",
       "      <td>25.0</td>\n",
       "      <td>0.0</td>\n",
       "      <td>NaN</td>\n",
       "      <td>0</td>\n",
       "      <td>Toyota</td>\n",
       "      <td>NaN</td>\n",
       "    </tr>\n",
       "    <tr>\n",
       "      <th>53</th>\n",
       "      <td>411419</td>\n",
       "      <td>377193.0</td>\n",
       "      <td>340298</td>\n",
       "      <td>HX01000785</td>\n",
       "      <td>Individual</td>\n",
       "      <td>1400</td>\n",
       "      <td>LUBBOCK</td>\n",
       "      <td>2010-07-29 09:09:30</td>\n",
       "      <td>Zero Balance</td>\n",
       "      <td>1</td>\n",
       "      <td>MCL06</td>\n",
       "      <td>PK-01</td>\n",
       "      <td>Parking meter expired</td>\n",
       "      <td>25.0</td>\n",
       "      <td>0.0</td>\n",
       "      <td>HOUSTON, DAN</td>\n",
       "      <td>2031</td>\n",
       "      <td>Ford</td>\n",
       "      <td>2005.0</td>\n",
       "    </tr>\n",
       "    <tr>\n",
       "      <th>55</th>\n",
       "      <td>406723</td>\n",
       "      <td>308390.0</td>\n",
       "      <td>466041</td>\n",
       "      <td>HX05000362</td>\n",
       "      <td>Individual</td>\n",
       "      <td>1100</td>\n",
       "      <td>SMITH ST</td>\n",
       "      <td>2010-07-21 12:23:27</td>\n",
       "      <td>Zero Balance</td>\n",
       "      <td>1</td>\n",
       "      <td>SMI1101</td>\n",
       "      <td>PK-02</td>\n",
       "      <td>Overtime parking</td>\n",
       "      <td>25.0</td>\n",
       "      <td>0.0</td>\n",
       "      <td>EVANS, AMOS</td>\n",
       "      <td>2624</td>\n",
       "      <td>BMW</td>\n",
       "      <td>2009.0</td>\n",
       "    </tr>\n",
       "    <tr>\n",
       "      <th>56</th>\n",
       "      <td>406724</td>\n",
       "      <td>386008.0</td>\n",
       "      <td>997902</td>\n",
       "      <td>HX05000363</td>\n",
       "      <td>Individual</td>\n",
       "      <td>700</td>\n",
       "      <td>LAMAR ST</td>\n",
       "      <td>2010-07-21 12:37:16</td>\n",
       "      <td>Zero Balance</td>\n",
       "      <td>1</td>\n",
       "      <td>LAM700</td>\n",
       "      <td>PK-01</td>\n",
       "      <td>Parking meter expired</td>\n",
       "      <td>25.0</td>\n",
       "      <td>0.0</td>\n",
       "      <td>EVANS, AMOS</td>\n",
       "      <td>2624</td>\n",
       "      <td>Acura</td>\n",
       "      <td>2002.0</td>\n",
       "    </tr>\n",
       "    <tr>\n",
       "      <th>58</th>\n",
       "      <td>406726</td>\n",
       "      <td>294038.0</td>\n",
       "      <td>414590</td>\n",
       "      <td>HX05000365</td>\n",
       "      <td>Individual</td>\n",
       "      <td>1200</td>\n",
       "      <td>SAN JACINTO ST</td>\n",
       "      <td>2010-07-21 14:11:34</td>\n",
       "      <td>Zero Balance</td>\n",
       "      <td>1</td>\n",
       "      <td>SAN1202</td>\n",
       "      <td>PK-01</td>\n",
       "      <td>Parking meter expired</td>\n",
       "      <td>25.0</td>\n",
       "      <td>0.0</td>\n",
       "      <td>EVANS, AMOS</td>\n",
       "      <td>2624</td>\n",
       "      <td>Pontiac</td>\n",
       "      <td>1997.0</td>\n",
       "    </tr>\n",
       "  </tbody>\n",
       "</table>\n",
       "</div>"
      ],
      "text/plain": [
       "    con_uid  entity_uid  vehicle_plate_anon invoice_number entity_type  \\\n",
       "14  1080091         NaN             1044199     HX25001706         NaN   \n",
       "53   411419    377193.0              340298     HX01000785  Individual   \n",
       "55   406723    308390.0              466041     HX05000362  Individual   \n",
       "56   406724    386008.0              997902     HX05000363  Individual   \n",
       "58   406726    294038.0              414590     HX05000365  Individual   \n",
       "\n",
       "   event_block_number    event_street          event_date citation_status  \\\n",
       "14               1600        TEXAS ST 2010-12-29 10:19:00    Zero Balance   \n",
       "53               1400         LUBBOCK 2010-07-29 09:09:30    Zero Balance   \n",
       "55               1100        SMITH ST 2010-07-21 12:23:27    Zero Balance   \n",
       "56                700        LAMAR ST 2010-07-21 12:37:16    Zero Balance   \n",
       "58               1200  SAN JACINTO ST 2010-07-21 14:11:34    Zero Balance   \n",
       "\n",
       "    meter_violation meter_number citation_description_code  \\\n",
       "14                1          NaN                     PK-01   \n",
       "53                1        MCL06                     PK-01   \n",
       "55                1      SMI1101                     PK-02   \n",
       "56                1       LAM700                     PK-01   \n",
       "58                1      SAN1202                     PK-01   \n",
       "\n",
       "    vic_legal_description  initial_citation_amount  amount_outstanding  \\\n",
       "14  Parking meter expired                     25.0                 0.0   \n",
       "53  Parking meter expired                     25.0                 0.0   \n",
       "55       Overtime parking                     25.0                 0.0   \n",
       "56  Parking meter expired                     25.0                 0.0   \n",
       "58  Parking meter expired                     25.0                 0.0   \n",
       "\n",
       "   citation_officer  citation_officer_uid vehicle_make  vehicle_year  \n",
       "14              NaN                     0       Toyota           NaN  \n",
       "53     HOUSTON, DAN                  2031         Ford        2005.0  \n",
       "55      EVANS, AMOS                  2624          BMW        2009.0  \n",
       "56      EVANS, AMOS                  2624        Acura        2002.0  \n",
       "58      EVANS, AMOS                  2624      Pontiac        1997.0  "
      ]
     },
     "execution_count": 127,
     "metadata": {},
     "output_type": "execute_result"
    }
   ],
   "source": [
    "meter.head()"
   ]
  },
  {
   "cell_type": "code",
   "execution_count": 129,
   "metadata": {},
   "outputs": [
    {
     "data": {
      "text/plain": [
       "PK-01     52570\n",
       "APK-01     7260\n",
       "PK-02      6685\n",
       "PK-36      5144\n",
       "PK-38      1321\n",
       "APK-02      935\n",
       "PK-37        37\n",
       "APK-04       19\n",
       "Name: citation_description_code, dtype: int64"
      ]
     },
     "execution_count": 129,
     "metadata": {},
     "output_type": "execute_result"
    }
   ],
   "source": [
    "meter.citation_description_code.value_counts(dropna=False)"
   ]
  },
  {
   "cell_type": "code",
   "execution_count": 130,
   "metadata": {},
   "outputs": [
    {
     "data": {
      "text/plain": [
       "Parking meter expired               52570\n",
       "Parking Meter Expired                7260\n",
       "Overtime parking                     6685\n",
       "Parked non-commercial vehicle in     5144\n",
       "Parked in CVLZ without permit or     1321\n",
       "Overtime Parking                      935\n",
       "Parked using CVLZ and not loadin       37\n",
       "Parked on wrong side of the st         19\n",
       "Name: vic_legal_description, dtype: int64"
      ]
     },
     "execution_count": 130,
     "metadata": {},
     "output_type": "execute_result"
    }
   ],
   "source": [
    "meter.vic_legal_description.value_counts(dropna=False)"
   ]
  },
  {
   "cell_type": "markdown",
   "metadata": {},
   "source": [
    "## Other tickets"
   ]
  },
  {
   "cell_type": "code",
   "execution_count": 132,
   "metadata": {},
   "outputs": [
    {
     "data": {
      "text/plain": [
       "PK-16     40527\n",
       "PK-19     10055\n",
       "PK-21      9364\n",
       "PK-17      8523\n",
       "PK-20      8382\n",
       "APK-16     6955\n",
       "PK-13      6317\n",
       "PK-05      5947\n",
       "PK-12      4617\n",
       "PK-08      4571\n",
       "Name: citation_description_code, dtype: int64"
      ]
     },
     "execution_count": 132,
     "metadata": {},
     "output_type": "execute_result"
    }
   ],
   "source": [
    "other.citation_description_code.value_counts(dropna=False)[:10]"
   ]
  },
  {
   "cell_type": "code",
   "execution_count": 133,
   "metadata": {},
   "outputs": [
    {
     "data": {
      "text/plain": [
       "Parked in a tow away zone           40527\n",
       "Other parking violation             10055\n",
       "Parked in a handicapped zone         9364\n",
       "No parking anytime                   8523\n",
       "Parked more than 18in from right     8382\n",
       "Parked in a tow-away zone            6955\n",
       "Blocking or parking on sidewalk      6317\n",
       "Parked on street more than 24 ho     5947\n",
       "Parked within 15 feet of fire hy     4617\n",
       "Parked in reserved zone              4571\n",
       "Name: vic_legal_description, dtype: int64"
      ]
     },
     "execution_count": 133,
     "metadata": {},
     "output_type": "execute_result"
    }
   ],
   "source": [
    "other.vic_legal_description.value_counts(dropna=False)[:10]"
   ]
  },
  {
   "cell_type": "code",
   "execution_count": 134,
   "metadata": {},
   "outputs": [
    {
     "data": {
      "text/html": [
       "<div>\n",
       "<style scoped>\n",
       "    .dataframe tbody tr th:only-of-type {\n",
       "        vertical-align: middle;\n",
       "    }\n",
       "\n",
       "    .dataframe tbody tr th {\n",
       "        vertical-align: top;\n",
       "    }\n",
       "\n",
       "    .dataframe thead th {\n",
       "        text-align: right;\n",
       "    }\n",
       "</style>\n",
       "<table border=\"1\" class=\"dataframe\">\n",
       "  <thead>\n",
       "    <tr style=\"text-align: right;\">\n",
       "      <th></th>\n",
       "      <th>con_uid</th>\n",
       "      <th>entity_uid</th>\n",
       "      <th>vehicle_plate_anon</th>\n",
       "      <th>invoice_number</th>\n",
       "      <th>entity_type</th>\n",
       "      <th>event_block_number</th>\n",
       "      <th>event_street</th>\n",
       "      <th>event_date</th>\n",
       "      <th>citation_status</th>\n",
       "      <th>meter_violation</th>\n",
       "      <th>meter_number</th>\n",
       "      <th>citation_description_code</th>\n",
       "      <th>vic_legal_description</th>\n",
       "      <th>initial_citation_amount</th>\n",
       "      <th>amount_outstanding</th>\n",
       "      <th>citation_officer</th>\n",
       "      <th>citation_officer_uid</th>\n",
       "      <th>vehicle_make</th>\n",
       "      <th>vehicle_year</th>\n",
       "    </tr>\n",
       "  </thead>\n",
       "  <tbody>\n",
       "    <tr>\n",
       "      <th>0</th>\n",
       "      <td>612399</td>\n",
       "      <td>441213.0</td>\n",
       "      <td>1051794</td>\n",
       "      <td>V10117186</td>\n",
       "      <td>Individual</td>\n",
       "      <td>7426</td>\n",
       "      <td>AIRLINE DR</td>\n",
       "      <td>2011-06-16 14:30:00</td>\n",
       "      <td>Zero Balance</td>\n",
       "      <td>0</td>\n",
       "      <td>NaN</td>\n",
       "      <td>PK-21</td>\n",
       "      <td>Parked in a handicapped zone</td>\n",
       "      <td>205.0</td>\n",
       "      <td>0.0</td>\n",
       "      <td>RECTOR, DAVID</td>\n",
       "      <td>2148</td>\n",
       "      <td>Chrysler</td>\n",
       "      <td>2008.0</td>\n",
       "    </tr>\n",
       "    <tr>\n",
       "      <th>1</th>\n",
       "      <td>612401</td>\n",
       "      <td>441214.0</td>\n",
       "      <td>612548</td>\n",
       "      <td>V10367917</td>\n",
       "      <td>Individual</td>\n",
       "      <td>2300</td>\n",
       "      <td>GESSNER RD</td>\n",
       "      <td>2011-06-14 12:20:00</td>\n",
       "      <td>Unpaid</td>\n",
       "      <td>0</td>\n",
       "      <td>NaN</td>\n",
       "      <td>PK-21</td>\n",
       "      <td>Parked in a handicapped zone</td>\n",
       "      <td>205.0</td>\n",
       "      <td>533.0</td>\n",
       "      <td>WORM, JOHN</td>\n",
       "      <td>2266</td>\n",
       "      <td>Cadillac</td>\n",
       "      <td>1997.0</td>\n",
       "    </tr>\n",
       "    <tr>\n",
       "      <th>2</th>\n",
       "      <td>612402</td>\n",
       "      <td>440150.0</td>\n",
       "      <td>225966</td>\n",
       "      <td>V10367926</td>\n",
       "      <td>Individual</td>\n",
       "      <td>2300</td>\n",
       "      <td>GESSNER RD</td>\n",
       "      <td>2011-06-17 16:13:00</td>\n",
       "      <td>Zero Balance</td>\n",
       "      <td>0</td>\n",
       "      <td>NaN</td>\n",
       "      <td>PK-21</td>\n",
       "      <td>Parked in a handicapped zone</td>\n",
       "      <td>205.0</td>\n",
       "      <td>0.0</td>\n",
       "      <td>WORM, JOHN</td>\n",
       "      <td>2266</td>\n",
       "      <td>Mercury</td>\n",
       "      <td>NaN</td>\n",
       "    </tr>\n",
       "    <tr>\n",
       "      <th>3</th>\n",
       "      <td>612470</td>\n",
       "      <td>441216.0</td>\n",
       "      <td>669745</td>\n",
       "      <td>V10272997</td>\n",
       "      <td>Individual</td>\n",
       "      <td>2955</td>\n",
       "      <td>KIRBY DR</td>\n",
       "      <td>2011-06-05 09:49:00</td>\n",
       "      <td>Zero Balance</td>\n",
       "      <td>0</td>\n",
       "      <td>NaN</td>\n",
       "      <td>PK-21</td>\n",
       "      <td>Parked in a handicapped zone</td>\n",
       "      <td>205.0</td>\n",
       "      <td>0.0</td>\n",
       "      <td>KIZER, JEREMY</td>\n",
       "      <td>3785</td>\n",
       "      <td>Ford</td>\n",
       "      <td>1998.0</td>\n",
       "    </tr>\n",
       "    <tr>\n",
       "      <th>4</th>\n",
       "      <td>612513</td>\n",
       "      <td>434221.0</td>\n",
       "      <td>1010459</td>\n",
       "      <td>V20016841</td>\n",
       "      <td>Individual</td>\n",
       "      <td>4400</td>\n",
       "      <td>NORTH FWY</td>\n",
       "      <td>2011-06-07 11:03:00</td>\n",
       "      <td>Unpaid</td>\n",
       "      <td>0</td>\n",
       "      <td>NaN</td>\n",
       "      <td>APK-21</td>\n",
       "      <td>Prked in handicapped zone w/o pl</td>\n",
       "      <td>500.0</td>\n",
       "      <td>780.0</td>\n",
       "      <td>SMITH, ROBERT</td>\n",
       "      <td>2155</td>\n",
       "      <td>Ford</td>\n",
       "      <td>2003.0</td>\n",
       "    </tr>\n",
       "  </tbody>\n",
       "</table>\n",
       "</div>"
      ],
      "text/plain": [
       "   con_uid  entity_uid  vehicle_plate_anon invoice_number entity_type  \\\n",
       "0   612399    441213.0             1051794      V10117186  Individual   \n",
       "1   612401    441214.0              612548      V10367917  Individual   \n",
       "2   612402    440150.0              225966      V10367926  Individual   \n",
       "3   612470    441216.0              669745      V10272997  Individual   \n",
       "4   612513    434221.0             1010459      V20016841  Individual   \n",
       "\n",
       "  event_block_number event_street          event_date citation_status  \\\n",
       "0               7426   AIRLINE DR 2011-06-16 14:30:00    Zero Balance   \n",
       "1               2300   GESSNER RD 2011-06-14 12:20:00          Unpaid   \n",
       "2               2300   GESSNER RD 2011-06-17 16:13:00    Zero Balance   \n",
       "3               2955     KIRBY DR 2011-06-05 09:49:00    Zero Balance   \n",
       "4               4400    NORTH FWY 2011-06-07 11:03:00          Unpaid   \n",
       "\n",
       "   meter_violation meter_number citation_description_code  \\\n",
       "0                0          NaN                     PK-21   \n",
       "1                0          NaN                     PK-21   \n",
       "2                0          NaN                     PK-21   \n",
       "3                0          NaN                     PK-21   \n",
       "4                0          NaN                    APK-21   \n",
       "\n",
       "              vic_legal_description  initial_citation_amount  \\\n",
       "0      Parked in a handicapped zone                    205.0   \n",
       "1      Parked in a handicapped zone                    205.0   \n",
       "2      Parked in a handicapped zone                    205.0   \n",
       "3      Parked in a handicapped zone                    205.0   \n",
       "4  Prked in handicapped zone w/o pl                    500.0   \n",
       "\n",
       "   amount_outstanding citation_officer  citation_officer_uid vehicle_make  \\\n",
       "0                 0.0    RECTOR, DAVID                  2148     Chrysler   \n",
       "1               533.0       WORM, JOHN                  2266     Cadillac   \n",
       "2                 0.0       WORM, JOHN                  2266      Mercury   \n",
       "3                 0.0    KIZER, JEREMY                  3785         Ford   \n",
       "4               780.0    SMITH, ROBERT                  2155         Ford   \n",
       "\n",
       "   vehicle_year  \n",
       "0        2008.0  \n",
       "1        1997.0  \n",
       "2           NaN  \n",
       "3        1998.0  \n",
       "4        2003.0  "
      ]
     },
     "execution_count": 134,
     "metadata": {},
     "output_type": "execute_result"
    }
   ],
   "source": [
    "df.head()"
   ]
  },
  {
   "cell_type": "code",
   "execution_count": 58,
   "metadata": {},
   "outputs": [
    {
     "data": {
      "text/plain": [
       "con_uid                           0\n",
       "entity_uid                    37004\n",
       "vehicle_plate_anon                0\n",
       "invoice_number                    0\n",
       "entity_type                   37004\n",
       "event_block_number             2930\n",
       "event_street                      1\n",
       "event_date                        0\n",
       "citation_status                   0\n",
       "meter_violation                   0\n",
       "meter_number                 137715\n",
       "citation_description_code         0\n",
       "vic_legal_description          2050\n",
       "initial_citation_amount           0\n",
       "amount_outstanding                0\n",
       "citation_officer               5055\n",
       "citation_officer_uid              0\n",
       "vehicle_make                      0\n",
       "vehicle_year                  49364\n",
       "dtype: int64"
      ]
     },
     "execution_count": 58,
     "metadata": {},
     "output_type": "execute_result"
    }
   ],
   "source": [
    "df.apply(lambda x: sum(x.isnull()))"
   ]
  },
  {
   "cell_type": "code",
   "execution_count": 59,
   "metadata": {},
   "outputs": [
    {
     "data": {
      "image/png": "[encoded data removed]",
      "text/plain": [
       "<Figure size 432x288 with 1 Axes>"
      ]
     },
     "metadata": {},
     "output_type": "display_data"
    }
   ],
   "source": [
    "sns.heatmap(df.isnull(),yticklabels=False,cbar=False,cmap='viridis')\n",
    "plt.title('Null dataset display')\n",
    "plt.show()"
   ]
  },
  {
   "cell_type": "markdown",
   "metadata": {},
   "source": [
    "## combine block number &  street "
   ]
  },
  {
   "cell_type": "code",
   "execution_count": 61,
   "metadata": {},
   "outputs": [
    {
     "data": {
      "text/html": [
       "<div>\n",
       "<style scoped>\n",
       "    .dataframe tbody tr th:only-of-type {\n",
       "        vertical-align: middle;\n",
       "    }\n",
       "\n",
       "    .dataframe tbody tr th {\n",
       "        vertical-align: top;\n",
       "    }\n",
       "\n",
       "    .dataframe thead th {\n",
       "        text-align: right;\n",
       "    }\n",
       "</style>\n",
       "<table border=\"1\" class=\"dataframe\">\n",
       "  <thead>\n",
       "    <tr style=\"text-align: right;\">\n",
       "      <th></th>\n",
       "      <th>con_uid</th>\n",
       "      <th>entity_uid</th>\n",
       "      <th>vehicle_plate_anon</th>\n",
       "      <th>invoice_number</th>\n",
       "      <th>entity_type</th>\n",
       "      <th>event_block_number</th>\n",
       "      <th>event_street</th>\n",
       "      <th>event_date</th>\n",
       "      <th>citation_status</th>\n",
       "      <th>meter_violation</th>\n",
       "      <th>meter_number</th>\n",
       "      <th>citation_description_code</th>\n",
       "      <th>vic_legal_description</th>\n",
       "      <th>initial_citation_amount</th>\n",
       "      <th>amount_outstanding</th>\n",
       "      <th>citation_officer</th>\n",
       "      <th>citation_officer_uid</th>\n",
       "      <th>vehicle_make</th>\n",
       "      <th>vehicle_year</th>\n",
       "    </tr>\n",
       "  </thead>\n",
       "  <tbody>\n",
       "    <tr>\n",
       "      <th>0</th>\n",
       "      <td>612399</td>\n",
       "      <td>441213.0</td>\n",
       "      <td>1051794</td>\n",
       "      <td>V10117186</td>\n",
       "      <td>Individual</td>\n",
       "      <td>7426</td>\n",
       "      <td>AIRLINE DR</td>\n",
       "      <td>2011-06-16 14:30:00</td>\n",
       "      <td>Zero Balance</td>\n",
       "      <td>0</td>\n",
       "      <td>NaN</td>\n",
       "      <td>PK-21</td>\n",
       "      <td>Parked in a handicapped zone</td>\n",
       "      <td>205.0</td>\n",
       "      <td>0.0</td>\n",
       "      <td>RECTOR, DAVID</td>\n",
       "      <td>2148</td>\n",
       "      <td>Chrysler</td>\n",
       "      <td>2008.0</td>\n",
       "    </tr>\n",
       "    <tr>\n",
       "      <th>1</th>\n",
       "      <td>612401</td>\n",
       "      <td>441214.0</td>\n",
       "      <td>612548</td>\n",
       "      <td>V10367917</td>\n",
       "      <td>Individual</td>\n",
       "      <td>2300</td>\n",
       "      <td>GESSNER RD</td>\n",
       "      <td>2011-06-14 12:20:00</td>\n",
       "      <td>Unpaid</td>\n",
       "      <td>0</td>\n",
       "      <td>NaN</td>\n",
       "      <td>PK-21</td>\n",
       "      <td>Parked in a handicapped zone</td>\n",
       "      <td>205.0</td>\n",
       "      <td>533.0</td>\n",
       "      <td>WORM, JOHN</td>\n",
       "      <td>2266</td>\n",
       "      <td>Cadillac</td>\n",
       "      <td>1997.0</td>\n",
       "    </tr>\n",
       "    <tr>\n",
       "      <th>2</th>\n",
       "      <td>612402</td>\n",
       "      <td>440150.0</td>\n",
       "      <td>225966</td>\n",
       "      <td>V10367926</td>\n",
       "      <td>Individual</td>\n",
       "      <td>2300</td>\n",
       "      <td>GESSNER RD</td>\n",
       "      <td>2011-06-17 16:13:00</td>\n",
       "      <td>Zero Balance</td>\n",
       "      <td>0</td>\n",
       "      <td>NaN</td>\n",
       "      <td>PK-21</td>\n",
       "      <td>Parked in a handicapped zone</td>\n",
       "      <td>205.0</td>\n",
       "      <td>0.0</td>\n",
       "      <td>WORM, JOHN</td>\n",
       "      <td>2266</td>\n",
       "      <td>Mercury</td>\n",
       "      <td>NaN</td>\n",
       "    </tr>\n",
       "    <tr>\n",
       "      <th>3</th>\n",
       "      <td>612470</td>\n",
       "      <td>441216.0</td>\n",
       "      <td>669745</td>\n",
       "      <td>V10272997</td>\n",
       "      <td>Individual</td>\n",
       "      <td>2955</td>\n",
       "      <td>KIRBY DR</td>\n",
       "      <td>2011-06-05 09:49:00</td>\n",
       "      <td>Zero Balance</td>\n",
       "      <td>0</td>\n",
       "      <td>NaN</td>\n",
       "      <td>PK-21</td>\n",
       "      <td>Parked in a handicapped zone</td>\n",
       "      <td>205.0</td>\n",
       "      <td>0.0</td>\n",
       "      <td>KIZER, JEREMY</td>\n",
       "      <td>3785</td>\n",
       "      <td>Ford</td>\n",
       "      <td>1998.0</td>\n",
       "    </tr>\n",
       "    <tr>\n",
       "      <th>4</th>\n",
       "      <td>612513</td>\n",
       "      <td>434221.0</td>\n",
       "      <td>1010459</td>\n",
       "      <td>V20016841</td>\n",
       "      <td>Individual</td>\n",
       "      <td>4400</td>\n",
       "      <td>NORTH FWY</td>\n",
       "      <td>2011-06-07 11:03:00</td>\n",
       "      <td>Unpaid</td>\n",
       "      <td>0</td>\n",
       "      <td>NaN</td>\n",
       "      <td>APK-21</td>\n",
       "      <td>Prked in handicapped zone w/o pl</td>\n",
       "      <td>500.0</td>\n",
       "      <td>780.0</td>\n",
       "      <td>SMITH, ROBERT</td>\n",
       "      <td>2155</td>\n",
       "      <td>Ford</td>\n",
       "      <td>2003.0</td>\n",
       "    </tr>\n",
       "  </tbody>\n",
       "</table>\n",
       "</div>"
      ],
      "text/plain": [
       "   con_uid  entity_uid  vehicle_plate_anon invoice_number entity_type  \\\n",
       "0   612399    441213.0             1051794      V10117186  Individual   \n",
       "1   612401    441214.0              612548      V10367917  Individual   \n",
       "2   612402    440150.0              225966      V10367926  Individual   \n",
       "3   612470    441216.0              669745      V10272997  Individual   \n",
       "4   612513    434221.0             1010459      V20016841  Individual   \n",
       "\n",
       "  event_block_number event_street          event_date citation_status  \\\n",
       "0               7426   AIRLINE DR 2011-06-16 14:30:00    Zero Balance   \n",
       "1               2300   GESSNER RD 2011-06-14 12:20:00          Unpaid   \n",
       "2               2300   GESSNER RD 2011-06-17 16:13:00    Zero Balance   \n",
       "3               2955     KIRBY DR 2011-06-05 09:49:00    Zero Balance   \n",
       "4               4400    NORTH FWY 2011-06-07 11:03:00          Unpaid   \n",
       "\n",
       "   meter_violation meter_number citation_description_code  \\\n",
       "0                0          NaN                     PK-21   \n",
       "1                0          NaN                     PK-21   \n",
       "2                0          NaN                     PK-21   \n",
       "3                0          NaN                     PK-21   \n",
       "4                0          NaN                    APK-21   \n",
       "\n",
       "              vic_legal_description  initial_citation_amount  \\\n",
       "0      Parked in a handicapped zone                    205.0   \n",
       "1      Parked in a handicapped zone                    205.0   \n",
       "2      Parked in a handicapped zone                    205.0   \n",
       "3      Parked in a handicapped zone                    205.0   \n",
       "4  Prked in handicapped zone w/o pl                    500.0   \n",
       "\n",
       "   amount_outstanding citation_officer  citation_officer_uid vehicle_make  \\\n",
       "0                 0.0    RECTOR, DAVID                  2148     Chrysler   \n",
       "1               533.0       WORM, JOHN                  2266     Cadillac   \n",
       "2                 0.0       WORM, JOHN                  2266      Mercury   \n",
       "3                 0.0    KIZER, JEREMY                  3785         Ford   \n",
       "4               780.0    SMITH, ROBERT                  2155         Ford   \n",
       "\n",
       "   vehicle_year  \n",
       "0        2008.0  \n",
       "1        1997.0  \n",
       "2           NaN  \n",
       "3        1998.0  \n",
       "4        2003.0  "
      ]
     },
     "execution_count": 61,
     "metadata": {},
     "output_type": "execute_result"
    }
   ],
   "source": [
    "df.head()"
   ]
  },
  {
   "cell_type": "code",
   "execution_count": 62,
   "metadata": {},
   "outputs": [
    {
     "data": {
      "text/html": [
       "<div>\n",
       "<style scoped>\n",
       "    .dataframe tbody tr th:only-of-type {\n",
       "        vertical-align: middle;\n",
       "    }\n",
       "\n",
       "    .dataframe tbody tr th {\n",
       "        vertical-align: top;\n",
       "    }\n",
       "\n",
       "    .dataframe thead th {\n",
       "        text-align: right;\n",
       "    }\n",
       "</style>\n",
       "<table border=\"1\" class=\"dataframe\">\n",
       "  <thead>\n",
       "    <tr style=\"text-align: right;\">\n",
       "      <th></th>\n",
       "      <th>event_block_number</th>\n",
       "      <th>event_street</th>\n",
       "    </tr>\n",
       "  </thead>\n",
       "  <tbody>\n",
       "    <tr>\n",
       "      <th>0</th>\n",
       "      <td>7426</td>\n",
       "      <td>AIRLINE DR</td>\n",
       "    </tr>\n",
       "    <tr>\n",
       "      <th>1</th>\n",
       "      <td>2300</td>\n",
       "      <td>GESSNER RD</td>\n",
       "    </tr>\n",
       "    <tr>\n",
       "      <th>2</th>\n",
       "      <td>2300</td>\n",
       "      <td>GESSNER RD</td>\n",
       "    </tr>\n",
       "    <tr>\n",
       "      <th>3</th>\n",
       "      <td>2955</td>\n",
       "      <td>KIRBY DR</td>\n",
       "    </tr>\n",
       "    <tr>\n",
       "      <th>4</th>\n",
       "      <td>4400</td>\n",
       "      <td>NORTH FWY</td>\n",
       "    </tr>\n",
       "  </tbody>\n",
       "</table>\n",
       "</div>"
      ],
      "text/plain": [
       "  event_block_number event_street\n",
       "0               7426   AIRLINE DR\n",
       "1               2300   GESSNER RD\n",
       "2               2300   GESSNER RD\n",
       "3               2955     KIRBY DR\n",
       "4               4400    NORTH FWY"
      ]
     },
     "execution_count": 62,
     "metadata": {},
     "output_type": "execute_result"
    }
   ],
   "source": [
    "df[['event_block_number','event_street']].head()"
   ]
  },
  {
   "cell_type": "code",
   "execution_count": 63,
   "metadata": {},
   "outputs": [
    {
     "data": {
      "text/plain": [
       "2930"
      ]
     },
     "execution_count": 63,
     "metadata": {},
     "output_type": "execute_result"
    }
   ],
   "source": [
    "len(df[df.event_block_number.isnull()])"
   ]
  },
  {
   "cell_type": "code",
   "execution_count": 64,
   "metadata": {},
   "outputs": [
    {
     "data": {
      "text/plain": [
       "202254"
      ]
     },
     "execution_count": 64,
     "metadata": {},
     "output_type": "execute_result"
    }
   ],
   "source": [
    "len(df[df.event_block_number.notnull()])"
   ]
  },
  {
   "cell_type": "markdown",
   "metadata": {},
   "source": [
    "## # fill nan with 0"
   ]
  },
  {
   "cell_type": "code",
   "execution_count": 65,
   "metadata": {},
   "outputs": [],
   "source": [
    "df.event_street.fillna('UNK',inplace=True)\n",
    "df.event_block_number.fillna(0,inplace=True)"
   ]
  },
  {
   "cell_type": "code",
   "execution_count": 66,
   "metadata": {},
   "outputs": [
    {
     "data": {
      "text/plain": [
       "0"
      ]
     },
     "execution_count": 66,
     "metadata": {},
     "output_type": "execute_result"
    }
   ],
   "source": [
    "len(df[df.event_street.isnull()])"
   ]
  },
  {
   "cell_type": "code",
   "execution_count": 67,
   "metadata": {},
   "outputs": [
    {
     "data": {
      "text/plain": [
       "0"
      ]
     },
     "execution_count": 67,
     "metadata": {},
     "output_type": "execute_result"
    }
   ],
   "source": [
    "len(df[df.event_block_number.isnull()])"
   ]
  },
  {
   "cell_type": "code",
   "execution_count": 68,
   "metadata": {},
   "outputs": [],
   "source": [
    "def full_street_address(row):\n",
    "    '''input col with block_range values\n",
    "    its split, get med value then appended\n",
    "    to street name\n",
    "    return: full street address'''\n",
    "    if row.event_block_number == 0:\n",
    "        return row.event_street\n",
    "    else:\n",
    "        return row.event_block_number + ' ' +  row.event_street\n",
    "   "
   ]
  },
  {
   "cell_type": "code",
   "execution_count": 69,
   "metadata": {},
   "outputs": [
    {
     "name": "stdout",
     "output_type": "stream",
     "text": [
      "CPU times: user 11.9 s, sys: 48 ms, total: 12 s\n",
      "Wall time: 12 s\n"
     ]
    }
   ],
   "source": [
    "%%time\n",
    "df['full_address'] = df.apply(full_street_address,axis=1)"
   ]
  },
  {
   "cell_type": "code",
   "execution_count": 70,
   "metadata": {},
   "outputs": [
    {
     "data": {
      "text/html": [
       "<div>\n",
       "<style scoped>\n",
       "    .dataframe tbody tr th:only-of-type {\n",
       "        vertical-align: middle;\n",
       "    }\n",
       "\n",
       "    .dataframe tbody tr th {\n",
       "        vertical-align: top;\n",
       "    }\n",
       "\n",
       "    .dataframe thead th {\n",
       "        text-align: right;\n",
       "    }\n",
       "</style>\n",
       "<table border=\"1\" class=\"dataframe\">\n",
       "  <thead>\n",
       "    <tr style=\"text-align: right;\">\n",
       "      <th></th>\n",
       "      <th>con_uid</th>\n",
       "      <th>entity_uid</th>\n",
       "      <th>vehicle_plate_anon</th>\n",
       "      <th>invoice_number</th>\n",
       "      <th>entity_type</th>\n",
       "      <th>event_block_number</th>\n",
       "      <th>event_street</th>\n",
       "      <th>event_date</th>\n",
       "      <th>citation_status</th>\n",
       "      <th>meter_violation</th>\n",
       "      <th>meter_number</th>\n",
       "      <th>citation_description_code</th>\n",
       "      <th>vic_legal_description</th>\n",
       "      <th>initial_citation_amount</th>\n",
       "      <th>amount_outstanding</th>\n",
       "      <th>citation_officer</th>\n",
       "      <th>citation_officer_uid</th>\n",
       "      <th>vehicle_make</th>\n",
       "      <th>vehicle_year</th>\n",
       "      <th>full_address</th>\n",
       "    </tr>\n",
       "  </thead>\n",
       "  <tbody>\n",
       "    <tr>\n",
       "      <th>0</th>\n",
       "      <td>612399</td>\n",
       "      <td>441213.0</td>\n",
       "      <td>1051794</td>\n",
       "      <td>V10117186</td>\n",
       "      <td>Individual</td>\n",
       "      <td>7426</td>\n",
       "      <td>AIRLINE DR</td>\n",
       "      <td>2011-06-16 14:30:00</td>\n",
       "      <td>Zero Balance</td>\n",
       "      <td>0</td>\n",
       "      <td>NaN</td>\n",
       "      <td>PK-21</td>\n",
       "      <td>Parked in a handicapped zone</td>\n",
       "      <td>205.0</td>\n",
       "      <td>0.0</td>\n",
       "      <td>RECTOR, DAVID</td>\n",
       "      <td>2148</td>\n",
       "      <td>Chrysler</td>\n",
       "      <td>2008.0</td>\n",
       "      <td>7426 AIRLINE DR</td>\n",
       "    </tr>\n",
       "    <tr>\n",
       "      <th>1</th>\n",
       "      <td>612401</td>\n",
       "      <td>441214.0</td>\n",
       "      <td>612548</td>\n",
       "      <td>V10367917</td>\n",
       "      <td>Individual</td>\n",
       "      <td>2300</td>\n",
       "      <td>GESSNER RD</td>\n",
       "      <td>2011-06-14 12:20:00</td>\n",
       "      <td>Unpaid</td>\n",
       "      <td>0</td>\n",
       "      <td>NaN</td>\n",
       "      <td>PK-21</td>\n",
       "      <td>Parked in a handicapped zone</td>\n",
       "      <td>205.0</td>\n",
       "      <td>533.0</td>\n",
       "      <td>WORM, JOHN</td>\n",
       "      <td>2266</td>\n",
       "      <td>Cadillac</td>\n",
       "      <td>1997.0</td>\n",
       "      <td>2300 GESSNER RD</td>\n",
       "    </tr>\n",
       "    <tr>\n",
       "      <th>2</th>\n",
       "      <td>612402</td>\n",
       "      <td>440150.0</td>\n",
       "      <td>225966</td>\n",
       "      <td>V10367926</td>\n",
       "      <td>Individual</td>\n",
       "      <td>2300</td>\n",
       "      <td>GESSNER RD</td>\n",
       "      <td>2011-06-17 16:13:00</td>\n",
       "      <td>Zero Balance</td>\n",
       "      <td>0</td>\n",
       "      <td>NaN</td>\n",
       "      <td>PK-21</td>\n",
       "      <td>Parked in a handicapped zone</td>\n",
       "      <td>205.0</td>\n",
       "      <td>0.0</td>\n",
       "      <td>WORM, JOHN</td>\n",
       "      <td>2266</td>\n",
       "      <td>Mercury</td>\n",
       "      <td>NaN</td>\n",
       "      <td>2300 GESSNER RD</td>\n",
       "    </tr>\n",
       "    <tr>\n",
       "      <th>3</th>\n",
       "      <td>612470</td>\n",
       "      <td>441216.0</td>\n",
       "      <td>669745</td>\n",
       "      <td>V10272997</td>\n",
       "      <td>Individual</td>\n",
       "      <td>2955</td>\n",
       "      <td>KIRBY DR</td>\n",
       "      <td>2011-06-05 09:49:00</td>\n",
       "      <td>Zero Balance</td>\n",
       "      <td>0</td>\n",
       "      <td>NaN</td>\n",
       "      <td>PK-21</td>\n",
       "      <td>Parked in a handicapped zone</td>\n",
       "      <td>205.0</td>\n",
       "      <td>0.0</td>\n",
       "      <td>KIZER, JEREMY</td>\n",
       "      <td>3785</td>\n",
       "      <td>Ford</td>\n",
       "      <td>1998.0</td>\n",
       "      <td>2955 KIRBY DR</td>\n",
       "    </tr>\n",
       "    <tr>\n",
       "      <th>4</th>\n",
       "      <td>612513</td>\n",
       "      <td>434221.0</td>\n",
       "      <td>1010459</td>\n",
       "      <td>V20016841</td>\n",
       "      <td>Individual</td>\n",
       "      <td>4400</td>\n",
       "      <td>NORTH FWY</td>\n",
       "      <td>2011-06-07 11:03:00</td>\n",
       "      <td>Unpaid</td>\n",
       "      <td>0</td>\n",
       "      <td>NaN</td>\n",
       "      <td>APK-21</td>\n",
       "      <td>Prked in handicapped zone w/o pl</td>\n",
       "      <td>500.0</td>\n",
       "      <td>780.0</td>\n",
       "      <td>SMITH, ROBERT</td>\n",
       "      <td>2155</td>\n",
       "      <td>Ford</td>\n",
       "      <td>2003.0</td>\n",
       "      <td>4400 NORTH FWY</td>\n",
       "    </tr>\n",
       "  </tbody>\n",
       "</table>\n",
       "</div>"
      ],
      "text/plain": [
       "   con_uid  entity_uid  vehicle_plate_anon invoice_number entity_type  \\\n",
       "0   612399    441213.0             1051794      V10117186  Individual   \n",
       "1   612401    441214.0              612548      V10367917  Individual   \n",
       "2   612402    440150.0              225966      V10367926  Individual   \n",
       "3   612470    441216.0              669745      V10272997  Individual   \n",
       "4   612513    434221.0             1010459      V20016841  Individual   \n",
       "\n",
       "  event_block_number event_street          event_date citation_status  \\\n",
       "0               7426   AIRLINE DR 2011-06-16 14:30:00    Zero Balance   \n",
       "1               2300   GESSNER RD 2011-06-14 12:20:00          Unpaid   \n",
       "2               2300   GESSNER RD 2011-06-17 16:13:00    Zero Balance   \n",
       "3               2955     KIRBY DR 2011-06-05 09:49:00    Zero Balance   \n",
       "4               4400    NORTH FWY 2011-06-07 11:03:00          Unpaid   \n",
       "\n",
       "   meter_violation meter_number citation_description_code  \\\n",
       "0                0          NaN                     PK-21   \n",
       "1                0          NaN                     PK-21   \n",
       "2                0          NaN                     PK-21   \n",
       "3                0          NaN                     PK-21   \n",
       "4                0          NaN                    APK-21   \n",
       "\n",
       "              vic_legal_description  initial_citation_amount  \\\n",
       "0      Parked in a handicapped zone                    205.0   \n",
       "1      Parked in a handicapped zone                    205.0   \n",
       "2      Parked in a handicapped zone                    205.0   \n",
       "3      Parked in a handicapped zone                    205.0   \n",
       "4  Prked in handicapped zone w/o pl                    500.0   \n",
       "\n",
       "   amount_outstanding citation_officer  citation_officer_uid vehicle_make  \\\n",
       "0                 0.0    RECTOR, DAVID                  2148     Chrysler   \n",
       "1               533.0       WORM, JOHN                  2266     Cadillac   \n",
       "2                 0.0       WORM, JOHN                  2266      Mercury   \n",
       "3                 0.0    KIZER, JEREMY                  3785         Ford   \n",
       "4               780.0    SMITH, ROBERT                  2155         Ford   \n",
       "\n",
       "   vehicle_year     full_address  \n",
       "0        2008.0  7426 AIRLINE DR  \n",
       "1        1997.0  2300 GESSNER RD  \n",
       "2           NaN  2300 GESSNER RD  \n",
       "3        1998.0    2955 KIRBY DR  \n",
       "4        2003.0   4400 NORTH FWY  "
      ]
     },
     "execution_count": 70,
     "metadata": {},
     "output_type": "execute_result"
    }
   ],
   "source": [
    "df.head()"
   ]
  },
  {
   "cell_type": "code",
   "execution_count": 71,
   "metadata": {},
   "outputs": [
    {
     "data": {
      "text/plain": [
       "19391"
      ]
     },
     "execution_count": 71,
     "metadata": {},
     "output_type": "execute_result"
    }
   ],
   "source": [
    "len(df.full_address.value_counts(dropna=False))"
   ]
  },
  {
   "cell_type": "code",
   "execution_count": 72,
   "metadata": {},
   "outputs": [
    {
     "data": {
      "text/plain": [
       "1400 LUBBOCK          3413\n",
       "1400 LUBBOCK ST       2532\n",
       "900 GIRARD ST         2357\n",
       "Boot Hearing          1782\n",
       "400 TEXAS ST          1605\n",
       "1600 CALIFORNIA ST    1577\n",
       "500 WALKER ST         1345\n",
       "1300 HERMANN DR       1299\n",
       "1500 KANE ST          1251\n",
       "1100 TEXAS ST         1185\n",
       "Name: full_address, dtype: int64"
      ]
     },
     "execution_count": 72,
     "metadata": {},
     "output_type": "execute_result"
    }
   ],
   "source": [
    "df.full_address.value_counts(dropna=False)[:10]"
   ]
  },
  {
   "cell_type": "code",
   "execution_count": null,
   "metadata": {},
   "outputs": [],
   "source": []
  },
  {
   "cell_type": "code",
   "execution_count": 75,
   "metadata": {},
   "outputs": [],
   "source": [
    "df.full_address.replace({'1400 LUBBOCK':'1400 LUBBOCK ST'}, inplace=True)"
   ]
  },
  {
   "cell_type": "code",
   "execution_count": 76,
   "metadata": {},
   "outputs": [
    {
     "data": {
      "text/plain": [
       "1400 LUBBOCK ST       5945\n",
       "900 GIRARD ST         2357\n",
       "Boot Hearing          1782\n",
       "400 TEXAS ST          1605\n",
       "1600 CALIFORNIA ST    1577\n",
       "500 WALKER ST         1345\n",
       "1300 HERMANN DR       1299\n",
       "1500 KANE ST          1251\n",
       "1100 TEXAS ST         1185\n",
       "1600 MCKINNEY ST      1126\n",
       "Name: full_address, dtype: int64"
      ]
     },
     "execution_count": 76,
     "metadata": {},
     "output_type": "execute_result"
    }
   ],
   "source": [
    "df.full_address.value_counts(dropna=False)[:10]"
   ]
  },
  {
   "cell_type": "code",
   "execution_count": null,
   "metadata": {},
   "outputs": [],
   "source": []
  },
  {
   "cell_type": "code",
   "execution_count": null,
   "metadata": {},
   "outputs": [],
   "source": []
  },
  {
   "cell_type": "markdown",
   "metadata": {},
   "source": [
    "## drop unused columns"
   ]
  },
  {
   "cell_type": "code",
   "execution_count": 73,
   "metadata": {},
   "outputs": [],
   "source": [
    "df.drop(['event_block_number','event_street'],axis=1,inplace=True)"
   ]
  },
  {
   "cell_type": "code",
   "execution_count": 77,
   "metadata": {},
   "outputs": [
    {
     "data": {
      "text/html": [
       "<div>\n",
       "<style scoped>\n",
       "    .dataframe tbody tr th:only-of-type {\n",
       "        vertical-align: middle;\n",
       "    }\n",
       "\n",
       "    .dataframe tbody tr th {\n",
       "        vertical-align: top;\n",
       "    }\n",
       "\n",
       "    .dataframe thead th {\n",
       "        text-align: right;\n",
       "    }\n",
       "</style>\n",
       "<table border=\"1\" class=\"dataframe\">\n",
       "  <thead>\n",
       "    <tr style=\"text-align: right;\">\n",
       "      <th></th>\n",
       "      <th>con_uid</th>\n",
       "      <th>entity_uid</th>\n",
       "      <th>vehicle_plate_anon</th>\n",
       "      <th>invoice_number</th>\n",
       "      <th>entity_type</th>\n",
       "      <th>event_date</th>\n",
       "      <th>citation_status</th>\n",
       "      <th>meter_violation</th>\n",
       "      <th>meter_number</th>\n",
       "      <th>citation_description_code</th>\n",
       "      <th>vic_legal_description</th>\n",
       "      <th>initial_citation_amount</th>\n",
       "      <th>amount_outstanding</th>\n",
       "      <th>citation_officer</th>\n",
       "      <th>citation_officer_uid</th>\n",
       "      <th>vehicle_make</th>\n",
       "      <th>vehicle_year</th>\n",
       "      <th>full_address</th>\n",
       "    </tr>\n",
       "  </thead>\n",
       "  <tbody>\n",
       "    <tr>\n",
       "      <th>0</th>\n",
       "      <td>612399</td>\n",
       "      <td>441213.0</td>\n",
       "      <td>1051794</td>\n",
       "      <td>V10117186</td>\n",
       "      <td>Individual</td>\n",
       "      <td>2011-06-16 14:30:00</td>\n",
       "      <td>Zero Balance</td>\n",
       "      <td>0</td>\n",
       "      <td>NaN</td>\n",
       "      <td>PK-21</td>\n",
       "      <td>Parked in a handicapped zone</td>\n",
       "      <td>205.0</td>\n",
       "      <td>0.0</td>\n",
       "      <td>RECTOR, DAVID</td>\n",
       "      <td>2148</td>\n",
       "      <td>Chrysler</td>\n",
       "      <td>2008.0</td>\n",
       "      <td>7426 AIRLINE DR</td>\n",
       "    </tr>\n",
       "    <tr>\n",
       "      <th>1</th>\n",
       "      <td>612401</td>\n",
       "      <td>441214.0</td>\n",
       "      <td>612548</td>\n",
       "      <td>V10367917</td>\n",
       "      <td>Individual</td>\n",
       "      <td>2011-06-14 12:20:00</td>\n",
       "      <td>Unpaid</td>\n",
       "      <td>0</td>\n",
       "      <td>NaN</td>\n",
       "      <td>PK-21</td>\n",
       "      <td>Parked in a handicapped zone</td>\n",
       "      <td>205.0</td>\n",
       "      <td>533.0</td>\n",
       "      <td>WORM, JOHN</td>\n",
       "      <td>2266</td>\n",
       "      <td>Cadillac</td>\n",
       "      <td>1997.0</td>\n",
       "      <td>2300 GESSNER RD</td>\n",
       "    </tr>\n",
       "    <tr>\n",
       "      <th>2</th>\n",
       "      <td>612402</td>\n",
       "      <td>440150.0</td>\n",
       "      <td>225966</td>\n",
       "      <td>V10367926</td>\n",
       "      <td>Individual</td>\n",
       "      <td>2011-06-17 16:13:00</td>\n",
       "      <td>Zero Balance</td>\n",
       "      <td>0</td>\n",
       "      <td>NaN</td>\n",
       "      <td>PK-21</td>\n",
       "      <td>Parked in a handicapped zone</td>\n",
       "      <td>205.0</td>\n",
       "      <td>0.0</td>\n",
       "      <td>WORM, JOHN</td>\n",
       "      <td>2266</td>\n",
       "      <td>Mercury</td>\n",
       "      <td>NaN</td>\n",
       "      <td>2300 GESSNER RD</td>\n",
       "    </tr>\n",
       "    <tr>\n",
       "      <th>3</th>\n",
       "      <td>612470</td>\n",
       "      <td>441216.0</td>\n",
       "      <td>669745</td>\n",
       "      <td>V10272997</td>\n",
       "      <td>Individual</td>\n",
       "      <td>2011-06-05 09:49:00</td>\n",
       "      <td>Zero Balance</td>\n",
       "      <td>0</td>\n",
       "      <td>NaN</td>\n",
       "      <td>PK-21</td>\n",
       "      <td>Parked in a handicapped zone</td>\n",
       "      <td>205.0</td>\n",
       "      <td>0.0</td>\n",
       "      <td>KIZER, JEREMY</td>\n",
       "      <td>3785</td>\n",
       "      <td>Ford</td>\n",
       "      <td>1998.0</td>\n",
       "      <td>2955 KIRBY DR</td>\n",
       "    </tr>\n",
       "    <tr>\n",
       "      <th>4</th>\n",
       "      <td>612513</td>\n",
       "      <td>434221.0</td>\n",
       "      <td>1010459</td>\n",
       "      <td>V20016841</td>\n",
       "      <td>Individual</td>\n",
       "      <td>2011-06-07 11:03:00</td>\n",
       "      <td>Unpaid</td>\n",
       "      <td>0</td>\n",
       "      <td>NaN</td>\n",
       "      <td>APK-21</td>\n",
       "      <td>Prked in handicapped zone w/o pl</td>\n",
       "      <td>500.0</td>\n",
       "      <td>780.0</td>\n",
       "      <td>SMITH, ROBERT</td>\n",
       "      <td>2155</td>\n",
       "      <td>Ford</td>\n",
       "      <td>2003.0</td>\n",
       "      <td>4400 NORTH FWY</td>\n",
       "    </tr>\n",
       "  </tbody>\n",
       "</table>\n",
       "</div>"
      ],
      "text/plain": [
       "   con_uid  entity_uid  vehicle_plate_anon invoice_number entity_type  \\\n",
       "0   612399    441213.0             1051794      V10117186  Individual   \n",
       "1   612401    441214.0              612548      V10367917  Individual   \n",
       "2   612402    440150.0              225966      V10367926  Individual   \n",
       "3   612470    441216.0              669745      V10272997  Individual   \n",
       "4   612513    434221.0             1010459      V20016841  Individual   \n",
       "\n",
       "           event_date citation_status  meter_violation meter_number  \\\n",
       "0 2011-06-16 14:30:00    Zero Balance                0          NaN   \n",
       "1 2011-06-14 12:20:00          Unpaid                0          NaN   \n",
       "2 2011-06-17 16:13:00    Zero Balance                0          NaN   \n",
       "3 2011-06-05 09:49:00    Zero Balance                0          NaN   \n",
       "4 2011-06-07 11:03:00          Unpaid                0          NaN   \n",
       "\n",
       "  citation_description_code             vic_legal_description  \\\n",
       "0                     PK-21      Parked in a handicapped zone   \n",
       "1                     PK-21      Parked in a handicapped zone   \n",
       "2                     PK-21      Parked in a handicapped zone   \n",
       "3                     PK-21      Parked in a handicapped zone   \n",
       "4                    APK-21  Prked in handicapped zone w/o pl   \n",
       "\n",
       "   initial_citation_amount  amount_outstanding citation_officer  \\\n",
       "0                    205.0                 0.0    RECTOR, DAVID   \n",
       "1                    205.0               533.0       WORM, JOHN   \n",
       "2                    205.0                 0.0       WORM, JOHN   \n",
       "3                    205.0                 0.0    KIZER, JEREMY   \n",
       "4                    500.0               780.0    SMITH, ROBERT   \n",
       "\n",
       "   citation_officer_uid vehicle_make  vehicle_year     full_address  \n",
       "0                  2148     Chrysler        2008.0  7426 AIRLINE DR  \n",
       "1                  2266     Cadillac        1997.0  2300 GESSNER RD  \n",
       "2                  2266      Mercury           NaN  2300 GESSNER RD  \n",
       "3                  3785         Ford        1998.0    2955 KIRBY DR  \n",
       "4                  2155         Ford        2003.0   4400 NORTH FWY  "
      ]
     },
     "execution_count": 77,
     "metadata": {},
     "output_type": "execute_result"
    }
   ],
   "source": [
    "df.head()"
   ]
  },
  {
   "cell_type": "code",
   "execution_count": 78,
   "metadata": {},
   "outputs": [
    {
     "data": {
      "text/plain": [
       "con_uid                               int64\n",
       "entity_uid                          float64\n",
       "vehicle_plate_anon                    int64\n",
       "invoice_number                       object\n",
       "entity_type                          object\n",
       "event_date                   datetime64[ns]\n",
       "citation_status                      object\n",
       "meter_violation                       int64\n",
       "meter_number                         object\n",
       "citation_description_code            object\n",
       "vic_legal_description                object\n",
       "initial_citation_amount             float64\n",
       "amount_outstanding                  float64\n",
       "citation_officer                     object\n",
       "citation_officer_uid                  int64\n",
       "vehicle_make                         object\n",
       "vehicle_year                        float64\n",
       "full_address                         object\n",
       "dtype: object"
      ]
     },
     "execution_count": 78,
     "metadata": {},
     "output_type": "execute_result"
    }
   ],
   "source": [
    "df.dtypes"
   ]
  },
  {
   "cell_type": "code",
   "execution_count": 79,
   "metadata": {},
   "outputs": [
    {
     "data": {
      "text/plain": [
       "con_uid                           0\n",
       "entity_uid                    37004\n",
       "vehicle_plate_anon                0\n",
       "invoice_number                    0\n",
       "entity_type                   37004\n",
       "event_date                        0\n",
       "citation_status                   0\n",
       "meter_violation                   0\n",
       "meter_number                 137715\n",
       "citation_description_code         0\n",
       "vic_legal_description          2050\n",
       "initial_citation_amount           0\n",
       "amount_outstanding                0\n",
       "citation_officer               5055\n",
       "citation_officer_uid              0\n",
       "vehicle_make                      0\n",
       "vehicle_year                  49364\n",
       "full_address                      0\n",
       "dtype: int64"
      ]
     },
     "execution_count": 79,
     "metadata": {},
     "output_type": "execute_result"
    }
   ],
   "source": [
    "df.apply(lambda x: sum(x.isnull()))"
   ]
  },
  {
   "cell_type": "code",
   "execution_count": 80,
   "metadata": {},
   "outputs": [
    {
     "data": {
      "text/plain": [
       "Individual    158848\n",
       "Group           9332\n",
       "Name: entity_type, dtype: int64"
      ]
     },
     "execution_count": 80,
     "metadata": {},
     "output_type": "execute_result"
    }
   ],
   "source": [
    "df.entity_type.value_counts()"
   ]
  },
  {
   "cell_type": "code",
   "execution_count": 87,
   "metadata": {},
   "outputs": [],
   "source": [
    "df.entity_uid.fillna(0,inplace=True)"
   ]
  },
  {
   "cell_type": "code",
   "execution_count": 81,
   "metadata": {},
   "outputs": [],
   "source": [
    "df.entity_type.fillna('UNK',inplace=True)"
   ]
  },
  {
   "cell_type": "code",
   "execution_count": 82,
   "metadata": {},
   "outputs": [],
   "source": [
    "df.meter_number.fillna('NA',inplace=True)"
   ]
  },
  {
   "cell_type": "code",
   "execution_count": 83,
   "metadata": {},
   "outputs": [],
   "source": [
    "df.vic_legal_description.fillna('UNK',inplace=True)"
   ]
  },
  {
   "cell_type": "code",
   "execution_count": 84,
   "metadata": {},
   "outputs": [],
   "source": [
    "df.citation_officer.fillna('UNK',inplace=True)"
   ]
  },
  {
   "cell_type": "code",
   "execution_count": 85,
   "metadata": {},
   "outputs": [],
   "source": [
    "df.vehicle_year.fillna('UNK',inplace=True)"
   ]
  },
  {
   "cell_type": "code",
   "execution_count": null,
   "metadata": {},
   "outputs": [],
   "source": []
  },
  {
   "cell_type": "code",
   "execution_count": 88,
   "metadata": {},
   "outputs": [
    {
     "data": {
      "text/plain": [
       "con_uid                      0\n",
       "entity_uid                   0\n",
       "vehicle_plate_anon           0\n",
       "invoice_number               0\n",
       "entity_type                  0\n",
       "event_date                   0\n",
       "citation_status              0\n",
       "meter_violation              0\n",
       "meter_number                 0\n",
       "citation_description_code    0\n",
       "vic_legal_description        0\n",
       "initial_citation_amount      0\n",
       "amount_outstanding           0\n",
       "citation_officer             0\n",
       "citation_officer_uid         0\n",
       "vehicle_make                 0\n",
       "vehicle_year                 0\n",
       "full_address                 0\n",
       "dtype: int64"
      ]
     },
     "execution_count": 88,
     "metadata": {},
     "output_type": "execute_result"
    }
   ],
   "source": [
    "df.apply(lambda x: sum(x.isnull()))"
   ]
  },
  {
   "cell_type": "code",
   "execution_count": null,
   "metadata": {},
   "outputs": [],
   "source": []
  },
  {
   "cell_type": "code",
   "execution_count": 89,
   "metadata": {},
   "outputs": [
    {
     "data": {
      "text/html": [
       "<div>\n",
       "<style scoped>\n",
       "    .dataframe tbody tr th:only-of-type {\n",
       "        vertical-align: middle;\n",
       "    }\n",
       "\n",
       "    .dataframe tbody tr th {\n",
       "        vertical-align: top;\n",
       "    }\n",
       "\n",
       "    .dataframe thead th {\n",
       "        text-align: right;\n",
       "    }\n",
       "</style>\n",
       "<table border=\"1\" class=\"dataframe\">\n",
       "  <thead>\n",
       "    <tr style=\"text-align: right;\">\n",
       "      <th></th>\n",
       "      <th>con_uid</th>\n",
       "      <th>entity_uid</th>\n",
       "      <th>vehicle_plate_anon</th>\n",
       "      <th>invoice_number</th>\n",
       "      <th>entity_type</th>\n",
       "      <th>event_date</th>\n",
       "      <th>citation_status</th>\n",
       "      <th>meter_violation</th>\n",
       "      <th>meter_number</th>\n",
       "      <th>citation_description_code</th>\n",
       "      <th>vic_legal_description</th>\n",
       "      <th>initial_citation_amount</th>\n",
       "      <th>amount_outstanding</th>\n",
       "      <th>citation_officer</th>\n",
       "      <th>citation_officer_uid</th>\n",
       "      <th>vehicle_make</th>\n",
       "      <th>vehicle_year</th>\n",
       "      <th>full_address</th>\n",
       "    </tr>\n",
       "  </thead>\n",
       "  <tbody>\n",
       "    <tr>\n",
       "      <th>0</th>\n",
       "      <td>612399</td>\n",
       "      <td>441213.0</td>\n",
       "      <td>1051794</td>\n",
       "      <td>V10117186</td>\n",
       "      <td>Individual</td>\n",
       "      <td>2011-06-16 14:30:00</td>\n",
       "      <td>Zero Balance</td>\n",
       "      <td>0</td>\n",
       "      <td>NA</td>\n",
       "      <td>PK-21</td>\n",
       "      <td>Parked in a handicapped zone</td>\n",
       "      <td>205.0</td>\n",
       "      <td>0.0</td>\n",
       "      <td>RECTOR, DAVID</td>\n",
       "      <td>2148</td>\n",
       "      <td>Chrysler</td>\n",
       "      <td>2008</td>\n",
       "      <td>7426 AIRLINE DR</td>\n",
       "    </tr>\n",
       "    <tr>\n",
       "      <th>1</th>\n",
       "      <td>612401</td>\n",
       "      <td>441214.0</td>\n",
       "      <td>612548</td>\n",
       "      <td>V10367917</td>\n",
       "      <td>Individual</td>\n",
       "      <td>2011-06-14 12:20:00</td>\n",
       "      <td>Unpaid</td>\n",
       "      <td>0</td>\n",
       "      <td>NA</td>\n",
       "      <td>PK-21</td>\n",
       "      <td>Parked in a handicapped zone</td>\n",
       "      <td>205.0</td>\n",
       "      <td>533.0</td>\n",
       "      <td>WORM, JOHN</td>\n",
       "      <td>2266</td>\n",
       "      <td>Cadillac</td>\n",
       "      <td>1997</td>\n",
       "      <td>2300 GESSNER RD</td>\n",
       "    </tr>\n",
       "    <tr>\n",
       "      <th>2</th>\n",
       "      <td>612402</td>\n",
       "      <td>440150.0</td>\n",
       "      <td>225966</td>\n",
       "      <td>V10367926</td>\n",
       "      <td>Individual</td>\n",
       "      <td>2011-06-17 16:13:00</td>\n",
       "      <td>Zero Balance</td>\n",
       "      <td>0</td>\n",
       "      <td>NA</td>\n",
       "      <td>PK-21</td>\n",
       "      <td>Parked in a handicapped zone</td>\n",
       "      <td>205.0</td>\n",
       "      <td>0.0</td>\n",
       "      <td>WORM, JOHN</td>\n",
       "      <td>2266</td>\n",
       "      <td>Mercury</td>\n",
       "      <td>UNK</td>\n",
       "      <td>2300 GESSNER RD</td>\n",
       "    </tr>\n",
       "    <tr>\n",
       "      <th>3</th>\n",
       "      <td>612470</td>\n",
       "      <td>441216.0</td>\n",
       "      <td>669745</td>\n",
       "      <td>V10272997</td>\n",
       "      <td>Individual</td>\n",
       "      <td>2011-06-05 09:49:00</td>\n",
       "      <td>Zero Balance</td>\n",
       "      <td>0</td>\n",
       "      <td>NA</td>\n",
       "      <td>PK-21</td>\n",
       "      <td>Parked in a handicapped zone</td>\n",
       "      <td>205.0</td>\n",
       "      <td>0.0</td>\n",
       "      <td>KIZER, JEREMY</td>\n",
       "      <td>3785</td>\n",
       "      <td>Ford</td>\n",
       "      <td>1998</td>\n",
       "      <td>2955 KIRBY DR</td>\n",
       "    </tr>\n",
       "    <tr>\n",
       "      <th>4</th>\n",
       "      <td>612513</td>\n",
       "      <td>434221.0</td>\n",
       "      <td>1010459</td>\n",
       "      <td>V20016841</td>\n",
       "      <td>Individual</td>\n",
       "      <td>2011-06-07 11:03:00</td>\n",
       "      <td>Unpaid</td>\n",
       "      <td>0</td>\n",
       "      <td>NA</td>\n",
       "      <td>APK-21</td>\n",
       "      <td>Prked in handicapped zone w/o pl</td>\n",
       "      <td>500.0</td>\n",
       "      <td>780.0</td>\n",
       "      <td>SMITH, ROBERT</td>\n",
       "      <td>2155</td>\n",
       "      <td>Ford</td>\n",
       "      <td>2003</td>\n",
       "      <td>4400 NORTH FWY</td>\n",
       "    </tr>\n",
       "  </tbody>\n",
       "</table>\n",
       "</div>"
      ],
      "text/plain": [
       "   con_uid  entity_uid  vehicle_plate_anon invoice_number entity_type  \\\n",
       "0   612399    441213.0             1051794      V10117186  Individual   \n",
       "1   612401    441214.0              612548      V10367917  Individual   \n",
       "2   612402    440150.0              225966      V10367926  Individual   \n",
       "3   612470    441216.0              669745      V10272997  Individual   \n",
       "4   612513    434221.0             1010459      V20016841  Individual   \n",
       "\n",
       "           event_date citation_status  meter_violation meter_number  \\\n",
       "0 2011-06-16 14:30:00    Zero Balance                0           NA   \n",
       "1 2011-06-14 12:20:00          Unpaid                0           NA   \n",
       "2 2011-06-17 16:13:00    Zero Balance                0           NA   \n",
       "3 2011-06-05 09:49:00    Zero Balance                0           NA   \n",
       "4 2011-06-07 11:03:00          Unpaid                0           NA   \n",
       "\n",
       "  citation_description_code             vic_legal_description  \\\n",
       "0                     PK-21      Parked in a handicapped zone   \n",
       "1                     PK-21      Parked in a handicapped zone   \n",
       "2                     PK-21      Parked in a handicapped zone   \n",
       "3                     PK-21      Parked in a handicapped zone   \n",
       "4                    APK-21  Prked in handicapped zone w/o pl   \n",
       "\n",
       "   initial_citation_amount  amount_outstanding citation_officer  \\\n",
       "0                    205.0                 0.0    RECTOR, DAVID   \n",
       "1                    205.0               533.0       WORM, JOHN   \n",
       "2                    205.0                 0.0       WORM, JOHN   \n",
       "3                    205.0                 0.0    KIZER, JEREMY   \n",
       "4                    500.0               780.0    SMITH, ROBERT   \n",
       "\n",
       "   citation_officer_uid vehicle_make vehicle_year     full_address  \n",
       "0                  2148     Chrysler         2008  7426 AIRLINE DR  \n",
       "1                  2266     Cadillac         1997  2300 GESSNER RD  \n",
       "2                  2266      Mercury          UNK  2300 GESSNER RD  \n",
       "3                  3785         Ford         1998    2955 KIRBY DR  \n",
       "4                  2155         Ford         2003   4400 NORTH FWY  "
      ]
     },
     "execution_count": 89,
     "metadata": {},
     "output_type": "execute_result"
    }
   ],
   "source": [
    "df.head()"
   ]
  },
  {
   "cell_type": "code",
   "execution_count": 90,
   "metadata": {},
   "outputs": [
    {
     "name": "stdout",
     "output_type": "stream",
     "text": [
      "<class 'pandas.core.frame.DataFrame'>\n",
      "RangeIndex: 205184 entries, 0 to 205183\n",
      "Data columns (total 18 columns):\n",
      "con_uid                      205184 non-null int64\n",
      "entity_uid                   205184 non-null float64\n",
      "vehicle_plate_anon           205184 non-null int64\n",
      "invoice_number               205184 non-null object\n",
      "entity_type                  205184 non-null object\n",
      "event_date                   205184 non-null datetime64[ns]\n",
      "citation_status              205184 non-null object\n",
      "meter_violation              205184 non-null int64\n",
      "meter_number                 205184 non-null object\n",
      "citation_description_code    205184 non-null object\n",
      "vic_legal_description        205184 non-null object\n",
      "initial_citation_amount      205184 non-null float64\n",
      "amount_outstanding           205184 non-null float64\n",
      "citation_officer             205184 non-null object\n",
      "citation_officer_uid         205184 non-null int64\n",
      "vehicle_make                 205184 non-null object\n",
      "vehicle_year                 205184 non-null object\n",
      "full_address                 205184 non-null object\n",
      "dtypes: datetime64[ns](1), float64(3), int64(4), object(10)\n",
      "memory usage: 28.2+ MB\n"
     ]
    }
   ],
   "source": [
    "df.info()"
   ]
  },
  {
   "cell_type": "markdown",
   "metadata": {},
   "source": [
    "## Save"
   ]
  },
  {
   "cell_type": "code",
   "execution_count": 93,
   "metadata": {},
   "outputs": [],
   "source": [
    "df.to_csv(data_directory_saves+'PC_2011.csv')\n"
   ]
  },
  {
   "cell_type": "code",
   "execution_count": null,
   "metadata": {},
   "outputs": [],
   "source": []
  }
 ],
 "metadata": {
  "kernelspec": {
   "display_name": "Python 3",
   "language": "python",
   "name": "python3"
  },
  "language_info": {
   "codemirror_mode": {
    "name": "ipython",
    "version": 3
   },
   "file_extension": ".py",
   "mimetype": "text/x-python",
   "name": "python",
   "nbconvert_exporter": "python",
   "pygments_lexer": "ipython3",
   "version": "3.6.6"
  }
 },
 "nbformat": 4,
 "nbformat_minor": 2
}
